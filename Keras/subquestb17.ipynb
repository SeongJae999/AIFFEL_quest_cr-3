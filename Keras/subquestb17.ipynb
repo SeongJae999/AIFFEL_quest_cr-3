{
  "nbformat": 4,
  "nbformat_minor": 0,
  "metadata": {
    "colab": {
      "provenance": [],
      "include_colab_link": true
    },
    "kernelspec": {
      "name": "python3",
      "display_name": "Python 3"
    },
    "language_info": {
      "name": "python"
    }
  },
  "cells": [
    {
      "cell_type": "markdown",
      "metadata": {
        "id": "view-in-github",
        "colab_type": "text"
      },
      "source": [
        "<a href=\"https://colab.research.google.com/github/incheonQ/AIFFEL_quest_cr/blob/main/Keras/subquestb17.ipynb\" target=\"_parent\"><img src=\"https://colab.research.google.com/assets/colab-badge.svg\" alt=\"Open In Colab\"/></a>"
      ]
    },
    {
      "cell_type": "code",
      "execution_count": null,
      "metadata": {
        "id": "KxllJJ7autOJ",
        "colab": {
          "base_uri": "https://localhost:8080/"
        },
        "outputId": "c7a50d2e-f405-417f-89a5-385a734e1046"
      },
      "outputs": [
        {
          "output_type": "stream",
          "name": "stdout",
          "text": [
            "Downloading data from https://storage.googleapis.com/tensorflow/tf-keras-datasets/reuters.npz\n",
            "\u001b[1m2110848/2110848\u001b[0m \u001b[32m━━━━━━━━━━━━━━━━━━━━\u001b[0m\u001b[37m\u001b[0m \u001b[1m1s\u001b[0m 0us/step\n"
          ]
        }
      ],
      "source": [
        "from tensorflow.keras.datasets import reuters\n",
        "\n",
        "(train_data, train_labels), (test_data, test_labels) = reuters.load_data(num_words=10000)"
      ]
    },
    {
      "cell_type": "code",
      "source": [
        "len(train_data[0]), len(train_data[1]), len(train_data[2])"
      ],
      "metadata": {
        "colab": {
          "base_uri": "https://localhost:8080/"
        },
        "id": "jSRMajVluuk0",
        "outputId": "0f681c89-8105-487d-ecb3-b5a7e455622f"
      },
      "execution_count": null,
      "outputs": [
        {
          "output_type": "execute_result",
          "data": {
            "text/plain": [
              "(87, 56, 139)"
            ]
          },
          "metadata": {},
          "execution_count": 2
        }
      ]
    },
    {
      "cell_type": "code",
      "source": [
        "import numpy as np\n",
        "def vectorize_sequences(sequences, dimension=10000):\n",
        "    results = np.zeros((len(sequences), dimension))\n",
        "    for i, sequence in enumerate(sequences):\n",
        "        for j in sequence:\n",
        "            results[i, j] = 1.\n",
        "    return results\n",
        "x_train = vectorize_sequences(train_data)\n",
        "x_test = vectorize_sequences(test_data)"
      ],
      "metadata": {
        "id": "S3KzpM_lzQwq"
      },
      "execution_count": null,
      "outputs": []
    },
    {
      "cell_type": "code",
      "source": [
        "x_train.shape"
      ],
      "metadata": {
        "colab": {
          "base_uri": "https://localhost:8080/"
        },
        "id": "qQair8UBzpZC",
        "outputId": "b7500652-6430-487a-d60d-75fa7559a17c"
      },
      "execution_count": null,
      "outputs": [
        {
          "output_type": "execute_result",
          "data": {
            "text/plain": [
              "(8982, 10000)"
            ]
          },
          "metadata": {},
          "execution_count": 4
        }
      ]
    },
    {
      "cell_type": "code",
      "source": [
        "# 라벨 46개"
      ],
      "metadata": {
        "collapsed": true,
        "id": "0ttktyYpzqHZ"
      },
      "execution_count": null,
      "outputs": []
    },
    {
      "cell_type": "code",
      "source": [
        "from tensorflow.keras import Model\n",
        "from tensorflow.keras.layers import Dense\n",
        "import tensorflow as tf\n",
        "\n",
        "# User-defined block (Model Subclassing)\n",
        "class CustomBlock(Model):\n",
        "    def __init__(self, units, activation='relu'):\n",
        "        super(CustomBlock, self).__init__()\n",
        "        self.dense1 = Dense(units, activation=activation)\n",
        "        self.dense2 = Dense(units // 2, activation=activation)\n",
        "\n",
        "    def call(self, inputs):\n",
        "        x = self.dense1(inputs)\n",
        "        return self.dense2(x)\n",
        "\n",
        "# User-defined model class\n",
        "class CustomModel(Model):\n",
        "    def __init__(self):\n",
        "        super(CustomModel, self).__init__()\n",
        "        self.block1 = CustomBlock(64)\n",
        "        self.output_layer = Dense(46, activation='softmax')\n",
        "\n",
        "    # Deeper structure\n",
        "    def call(self, inputs):\n",
        "        x = self.block1(inputs)\n",
        "        return self.output_layer(x)\n",
        "\n",
        "    # Custom training step without learning rate adjustment\n",
        "    def train_step(self, data):\n",
        "        x, y = data\n",
        "\n",
        "        with tf.GradientTape() as tape:\n",
        "            y_pred = self(x, training=True)  # Model prediction\n",
        "            loss = self.compiled_loss(y, y_pred)  # Calculate loss\n",
        "\n",
        "        gradients = tape.gradient(loss, self.trainable_variables)\n",
        "        self.optimizer.apply_gradients(zip(gradients, self.trainable_variables))\n",
        "        self.compiled_metrics.update_state(y, y_pred)\n",
        "\n",
        "        return {m.name: m.result() for m in self.metrics}\n",
        "\n",
        "# Create the model\n",
        "model = CustomModel()\n",
        "\n",
        "# Compile the model\n",
        "model.compile(optimizer=tf.keras.optimizers.Adam(learning_rate=0.001),\n",
        "              loss='categorical_crossentropy', metrics=['accuracy'])\n",
        "\n",
        "# Build and summarize the model\n",
        "model.build(input_shape=(None, 10000))\n",
        "model.summary()\n",
        "\n",
        "# Define the learning rate scheduler callback\n",
        "def lr_scheduler(epoch, lr):\n",
        "    if epoch != 0 and epoch % 5 == 0:\n",
        "        new_lr = lr * 0.9\n",
        "        print(f\"\\nEpoch {epoch}: Learning rate adjusted to {new_lr:.5f}.\")\n",
        "        return new_lr\n",
        "    return lr\n",
        "\n",
        "# When fitting the model, use the LearningRateScheduler\n",
        "# model.fit(train_dataset, epochs=..., callbacks=[tf.keras.callbacks.LearningRateScheduler(lr_scheduler)])"
      ],
      "metadata": {
        "colab": {
          "base_uri": "https://localhost:8080/",
          "height": 249
        },
        "id": "ew89ynyk0AGi",
        "outputId": "6d20f4c6-2ecf-4d7e-bf8a-0cb8446daab4"
      },
      "execution_count": null,
      "outputs": [
        {
          "output_type": "stream",
          "name": "stderr",
          "text": [
            "/usr/local/lib/python3.10/dist-packages/keras/src/layers/layer.py:372: UserWarning: `build()` was called on layer 'custom_model', however the layer does not have a `build()` method implemented and it looks like it has unbuilt state. This will cause the layer to be marked as built, despite not being actually built, which may cause failures down the line. Make sure to implement a proper `build()` method.\n",
            "  warnings.warn(\n"
          ]
        },
        {
          "output_type": "display_data",
          "data": {
            "text/plain": [
              "\u001b[1mModel: \"custom_model\"\u001b[0m\n"
            ],
            "text/html": [
              "<pre style=\"white-space:pre;overflow-x:auto;line-height:normal;font-family:Menlo,'DejaVu Sans Mono',consolas,'Courier New',monospace\"><span style=\"font-weight: bold\">Model: \"custom_model\"</span>\n",
              "</pre>\n"
            ]
          },
          "metadata": {}
        },
        {
          "output_type": "display_data",
          "data": {
            "text/plain": [
              "┏━━━━━━━━━━━━━━━━━━━━━━━━━━━━━━━━━━━━━━┳━━━━━━━━━━━━━━━━━━━━━━━━━━━━━┳━━━━━━━━━━━━━━━━━┓\n",
              "┃\u001b[1m \u001b[0m\u001b[1mLayer (type)                        \u001b[0m\u001b[1m \u001b[0m┃\u001b[1m \u001b[0m\u001b[1mOutput Shape               \u001b[0m\u001b[1m \u001b[0m┃\u001b[1m \u001b[0m\u001b[1m        Param #\u001b[0m\u001b[1m \u001b[0m┃\n",
              "┡━━━━━━━━━━━━━━━━━━━━━━━━━━━━━━━━━━━━━━╇━━━━━━━━━━━━━━━━━━━━━━━━━━━━━╇━━━━━━━━━━━━━━━━━┩\n",
              "│ custom_block (\u001b[38;5;33mCustomBlock\u001b[0m)           │ ?                           │     \u001b[38;5;34m0\u001b[0m (unbuilt) │\n",
              "├──────────────────────────────────────┼─────────────────────────────┼─────────────────┤\n",
              "│ dense_2 (\u001b[38;5;33mDense\u001b[0m)                      │ ?                           │     \u001b[38;5;34m0\u001b[0m (unbuilt) │\n",
              "└──────────────────────────────────────┴─────────────────────────────┴─────────────────┘\n"
            ],
            "text/html": [
              "<pre style=\"white-space:pre;overflow-x:auto;line-height:normal;font-family:Menlo,'DejaVu Sans Mono',consolas,'Courier New',monospace\">┏━━━━━━━━━━━━━━━━━━━━━━━━━━━━━━━━━━━━━━┳━━━━━━━━━━━━━━━━━━━━━━━━━━━━━┳━━━━━━━━━━━━━━━━━┓\n",
              "┃<span style=\"font-weight: bold\"> Layer (type)                         </span>┃<span style=\"font-weight: bold\"> Output Shape                </span>┃<span style=\"font-weight: bold\">         Param # </span>┃\n",
              "┡━━━━━━━━━━━━━━━━━━━━━━━━━━━━━━━━━━━━━━╇━━━━━━━━━━━━━━━━━━━━━━━━━━━━━╇━━━━━━━━━━━━━━━━━┩\n",
              "│ custom_block (<span style=\"color: #0087ff; text-decoration-color: #0087ff\">CustomBlock</span>)           │ ?                           │     <span style=\"color: #00af00; text-decoration-color: #00af00\">0</span> (unbuilt) │\n",
              "├──────────────────────────────────────┼─────────────────────────────┼─────────────────┤\n",
              "│ dense_2 (<span style=\"color: #0087ff; text-decoration-color: #0087ff\">Dense</span>)                      │ ?                           │     <span style=\"color: #00af00; text-decoration-color: #00af00\">0</span> (unbuilt) │\n",
              "└──────────────────────────────────────┴─────────────────────────────┴─────────────────┘\n",
              "</pre>\n"
            ]
          },
          "metadata": {}
        },
        {
          "output_type": "display_data",
          "data": {
            "text/plain": [
              "\u001b[1m Total params: \u001b[0m\u001b[38;5;34m0\u001b[0m (0.00 B)\n"
            ],
            "text/html": [
              "<pre style=\"white-space:pre;overflow-x:auto;line-height:normal;font-family:Menlo,'DejaVu Sans Mono',consolas,'Courier New',monospace\"><span style=\"font-weight: bold\"> Total params: </span><span style=\"color: #00af00; text-decoration-color: #00af00\">0</span> (0.00 B)\n",
              "</pre>\n"
            ]
          },
          "metadata": {}
        },
        {
          "output_type": "display_data",
          "data": {
            "text/plain": [
              "\u001b[1m Trainable params: \u001b[0m\u001b[38;5;34m0\u001b[0m (0.00 B)\n"
            ],
            "text/html": [
              "<pre style=\"white-space:pre;overflow-x:auto;line-height:normal;font-family:Menlo,'DejaVu Sans Mono',consolas,'Courier New',monospace\"><span style=\"font-weight: bold\"> Trainable params: </span><span style=\"color: #00af00; text-decoration-color: #00af00\">0</span> (0.00 B)\n",
              "</pre>\n"
            ]
          },
          "metadata": {}
        },
        {
          "output_type": "display_data",
          "data": {
            "text/plain": [
              "\u001b[1m Non-trainable params: \u001b[0m\u001b[38;5;34m0\u001b[0m (0.00 B)\n"
            ],
            "text/html": [
              "<pre style=\"white-space:pre;overflow-x:auto;line-height:normal;font-family:Menlo,'DejaVu Sans Mono',consolas,'Courier New',monospace\"><span style=\"font-weight: bold\"> Non-trainable params: </span><span style=\"color: #00af00; text-decoration-color: #00af00\">0</span> (0.00 B)\n",
              "</pre>\n"
            ]
          },
          "metadata": {}
        }
      ]
    },
    {
      "cell_type": "code",
      "source": [
        "layer = model.fit(x=x_train, y=tf.keras.utils.to_categorical(train_labels), batch_size=512, epochs=20, validation_split=0.2)"
      ],
      "metadata": {
        "colab": {
          "base_uri": "https://localhost:8080/"
        },
        "id": "ZVDVodKz0Xzp",
        "outputId": "59dfab30-744b-4ec7-9efa-c023c9d9276e"
      },
      "execution_count": null,
      "outputs": [
        {
          "output_type": "stream",
          "name": "stdout",
          "text": [
            "Epoch 1/20\n"
          ]
        },
        {
          "output_type": "stream",
          "name": "stderr",
          "text": [
            "/usr/local/lib/python3.10/dist-packages/keras/src/backend/tensorflow/trainer.py:607: UserWarning: `model.compiled_loss()` is deprecated. Instead, use `model.compute_loss(x, y, y_pred, sample_weight, training)`.\n",
            "  warnings.warn(\n",
            "/usr/local/lib/python3.10/dist-packages/keras/src/backend/tensorflow/trainer.py:582: UserWarning: `model.compiled_metrics()` is deprecated. Instead, use e.g.:\n",
            "```\n",
            "for metric in self.metrics:\n",
            "    metric.update_state(y, y_pred)\n",
            "```\n",
            "\n",
            "  return self._compiled_metrics_update_state(\n"
          ]
        },
        {
          "output_type": "stream",
          "name": "stdout",
          "text": [
            "\u001b[1m15/15\u001b[0m \u001b[32m━━━━━━━━━━━━━━━━━━━━\u001b[0m\u001b[37m\u001b[0m \u001b[1m4s\u001b[0m 112ms/step - accuracy: 0.3103 - loss: 0.0217 - val_accuracy: 0.5698 - val_loss: 2.6910\n",
            "Epoch 2/20\n",
            "\u001b[1m15/15\u001b[0m \u001b[32m━━━━━━━━━━━━━━━━━━━━\u001b[0m\u001b[37m\u001b[0m \u001b[1m2s\u001b[0m 87ms/step - accuracy: 0.5790 - loss: 0.0217 - val_accuracy: 0.6127 - val_loss: 1.8016\n",
            "Epoch 3/20\n",
            "\u001b[1m15/15\u001b[0m \u001b[32m━━━━━━━━━━━━━━━━━━━━\u001b[0m\u001b[37m\u001b[0m \u001b[1m1s\u001b[0m 62ms/step - accuracy: 0.6456 - loss: 0.0217 - val_accuracy: 0.6878 - val_loss: 1.4555\n",
            "Epoch 4/20\n",
            "\u001b[1m15/15\u001b[0m \u001b[32m━━━━━━━━━━━━━━━━━━━━\u001b[0m\u001b[37m\u001b[0m \u001b[1m1s\u001b[0m 54ms/step - accuracy: 0.7398 - loss: 0.0217 - val_accuracy: 0.7262 - val_loss: 1.2748\n",
            "Epoch 5/20\n",
            "\u001b[1m15/15\u001b[0m \u001b[32m━━━━━━━━━━━━━━━━━━━━\u001b[0m\u001b[37m\u001b[0m \u001b[1m1s\u001b[0m 52ms/step - accuracy: 0.7870 - loss: 0.0217 - val_accuracy: 0.7457 - val_loss: 1.1695\n",
            "Epoch 6/20\n",
            "\u001b[1m15/15\u001b[0m \u001b[32m━━━━━━━━━━━━━━━━━━━━\u001b[0m\u001b[37m\u001b[0m \u001b[1m1s\u001b[0m 52ms/step - accuracy: 0.8297 - loss: 0.0217 - val_accuracy: 0.7641 - val_loss: 1.0957\n",
            "Epoch 7/20\n",
            "\u001b[1m15/15\u001b[0m \u001b[32m━━━━━━━━━━━━━━━━━━━━\u001b[0m\u001b[37m\u001b[0m \u001b[1m1s\u001b[0m 49ms/step - accuracy: 0.8631 - loss: 0.0217 - val_accuracy: 0.7780 - val_loss: 1.0391\n",
            "Epoch 8/20\n",
            "\u001b[1m15/15\u001b[0m \u001b[32m━━━━━━━━━━━━━━━━━━━━\u001b[0m\u001b[37m\u001b[0m \u001b[1m1s\u001b[0m 54ms/step - accuracy: 0.8842 - loss: 0.0217 - val_accuracy: 0.7841 - val_loss: 1.0067\n",
            "Epoch 9/20\n",
            "\u001b[1m15/15\u001b[0m \u001b[32m━━━━━━━━━━━━━━━━━━━━\u001b[0m\u001b[37m\u001b[0m \u001b[1m1s\u001b[0m 52ms/step - accuracy: 0.9150 - loss: 0.0217 - val_accuracy: 0.7947 - val_loss: 0.9783\n",
            "Epoch 10/20\n",
            "\u001b[1m15/15\u001b[0m \u001b[32m━━━━━━━━━━━━━━━━━━━━\u001b[0m\u001b[37m\u001b[0m \u001b[1m1s\u001b[0m 53ms/step - accuracy: 0.9279 - loss: 0.0217 - val_accuracy: 0.7974 - val_loss: 0.9636\n",
            "Epoch 11/20\n",
            "\u001b[1m15/15\u001b[0m \u001b[32m━━━━━━━━━━━━━━━━━━━━\u001b[0m\u001b[37m\u001b[0m \u001b[1m1s\u001b[0m 51ms/step - accuracy: 0.9401 - loss: 0.0217 - val_accuracy: 0.7947 - val_loss: 0.9647\n",
            "Epoch 12/20\n",
            "\u001b[1m15/15\u001b[0m \u001b[32m━━━━━━━━━━━━━━━━━━━━\u001b[0m\u001b[37m\u001b[0m \u001b[1m1s\u001b[0m 52ms/step - accuracy: 0.9458 - loss: 0.0217 - val_accuracy: 0.7997 - val_loss: 0.9584\n",
            "Epoch 13/20\n",
            "\u001b[1m15/15\u001b[0m \u001b[32m━━━━━━━━━━━━━━━━━━━━\u001b[0m\u001b[37m\u001b[0m \u001b[1m2s\u001b[0m 101ms/step - accuracy: 0.9549 - loss: 0.0217 - val_accuracy: 0.7991 - val_loss: 0.9634\n",
            "Epoch 14/20\n",
            "\u001b[1m15/15\u001b[0m \u001b[32m━━━━━━━━━━━━━━━━━━━━\u001b[0m\u001b[37m\u001b[0m \u001b[1m1s\u001b[0m 78ms/step - accuracy: 0.9570 - loss: 0.0217 - val_accuracy: 0.7947 - val_loss: 0.9786\n",
            "Epoch 15/20\n",
            "\u001b[1m15/15\u001b[0m \u001b[32m━━━━━━━━━━━━━━━━━━━━\u001b[0m\u001b[37m\u001b[0m \u001b[1m1s\u001b[0m 52ms/step - accuracy: 0.9570 - loss: 0.0217 - val_accuracy: 0.7991 - val_loss: 0.9713\n",
            "Epoch 16/20\n",
            "\u001b[1m15/15\u001b[0m \u001b[32m━━━━━━━━━━━━━━━━━━━━\u001b[0m\u001b[37m\u001b[0m \u001b[1m1s\u001b[0m 51ms/step - accuracy: 0.9646 - loss: 0.0217 - val_accuracy: 0.7974 - val_loss: 0.9895\n",
            "Epoch 17/20\n",
            "\u001b[1m15/15\u001b[0m \u001b[32m━━━━━━━━━━━━━━━━━━━━\u001b[0m\u001b[37m\u001b[0m \u001b[1m1s\u001b[0m 54ms/step - accuracy: 0.9604 - loss: 0.0217 - val_accuracy: 0.7963 - val_loss: 1.0005\n",
            "Epoch 18/20\n",
            "\u001b[1m15/15\u001b[0m \u001b[32m━━━━━━━━━━━━━━━━━━━━\u001b[0m\u001b[37m\u001b[0m \u001b[1m1s\u001b[0m 53ms/step - accuracy: 0.9650 - loss: 0.0217 - val_accuracy: 0.7924 - val_loss: 1.0225\n",
            "Epoch 19/20\n",
            "\u001b[1m15/15\u001b[0m \u001b[32m━━━━━━━━━━━━━━━━━━━━\u001b[0m\u001b[37m\u001b[0m \u001b[1m1s\u001b[0m 53ms/step - accuracy: 0.9668 - loss: 0.0217 - val_accuracy: 0.7969 - val_loss: 1.0191\n",
            "Epoch 20/20\n",
            "\u001b[1m15/15\u001b[0m \u001b[32m━━━━━━━━━━━━━━━━━━━━\u001b[0m\u001b[37m\u001b[0m \u001b[1m1s\u001b[0m 58ms/step - accuracy: 0.9686 - loss: 0.0217 - val_accuracy: 0.7986 - val_loss: 1.0296\n"
          ]
        }
      ]
    },
    {
      "cell_type": "code",
      "source": [
        "import matplotlib.pyplot as plt\n",
        "\n",
        "def plot_training_history(history):\n",
        "    # 학습 및 검증 손실 시각화\n",
        "    plt.figure(figsize=(12, 5))\n",
        "    plt.subplot(1, 2, 1)\n",
        "    plt.plot(history.history['loss'], label='Training Loss')\n",
        "    plt.plot(history.history['val_loss'], label='Validation Loss')\n",
        "    plt.xlabel('Epochs')\n",
        "    plt.ylabel('Loss')\n",
        "    plt.title('Training and Validation Loss')\n",
        "    plt.legend()\n",
        "\n",
        "    # 학습 및 검증 정확도 시각화\n",
        "    plt.subplot(1, 2, 2)\n",
        "    plt.plot(history.history['accuracy'], label='Training Accuracy')\n",
        "    plt.plot(history.history['val_accuracy'], label='Validation Accuracy')\n",
        "    plt.xlabel('Epochs')\n",
        "    plt.ylabel('Accuracy')\n",
        "    plt.title('Training and Validation Accuracy')\n",
        "    plt.legend()\n",
        "\n",
        "    plt.tight_layout()\n",
        "    plt.show()\n",
        "\n",
        "# 모델 학습 후 결과 시각화\n",
        "plot_training_history(layer)"
      ],
      "metadata": {
        "id": "b7svCVl0Co_g",
        "colab": {
          "base_uri": "https://localhost:8080/",
          "height": 507
        },
        "outputId": "35673f05-3ce8-468d-c6c2-a78d0f90825f"
      },
      "execution_count": null,
      "outputs": [
        {
          "output_type": "display_data",
          "data": {
            "text/plain": [
              "<Figure size 1200x500 with 2 Axes>"
            ],
            "image/png": "[encoded data removed]"
          },
          "metadata": {}
        }
      ]
    },
    {
      "cell_type": "markdown",
      "source": [
        "# 1. 레이어 변경"
      ],
      "metadata": {
        "id": "dGy37D4XB_Zv"
      }
    },
    {
      "cell_type": "markdown",
      "source": [
        "## 레이어를 넓게 변경해보기"
      ],
      "metadata": {
        "id": "mRfGF8tt3UlT"
      }
    },
    {
      "cell_type": "code",
      "source": [
        "# 레이어를 넓게 변경\n",
        "\n",
        "from tensorflow.keras import Model\n",
        "from tensorflow.keras.layers import Dense\n",
        "import tensorflow as tf\n",
        "\n",
        "# 사용자 정의 블록 (모델 서브클래싱)\n",
        "class CustomBlock(Model):\n",
        "    def __init__(self, units, activation='relu'):\n",
        "        super(CustomBlock, self).__init__()\n",
        "        self.dense1 = Dense(units * 2, activation=activation)  # 유닛 수를 2배로 늘림\n",
        "        self.dense2 = Dense(units, activation=activation)  # 유닛 수를 그대로 유지\n",
        "\n",
        "    def call(self, inputs):\n",
        "        x = self.dense1(inputs)\n",
        "        return self.dense2(x)\n",
        "\n",
        "# 사용자 정의 모델 클래스\n",
        "class CustomModel(Model):\n",
        "    def __init__(self):\n",
        "        super(CustomModel, self).__init__()\n",
        "        self.block1 = CustomBlock(128)  # 유닛 수를 128로 증가\n",
        "        self.output_layer = Dense(46, activation='softmax')\n",
        "\n",
        "    # 깊은 구조\n",
        "    def call(self, inputs):\n",
        "        x = self.block1(inputs)\n",
        "        return self.output_layer(x)\n",
        "\n",
        "    # 학습률 조정 없이 사용자 정의 학습 단계\n",
        "    def train_step(self, data):\n",
        "        x, y = data\n",
        "\n",
        "        with tf.GradientTape() as tape:\n",
        "            y_pred = self(x, training=True)  # 모델 예측\n",
        "            loss = self.compiled_loss(y, y_pred)  # 손실 계산\n",
        "\n",
        "        gradients = tape.gradient(loss, self.trainable_variables)\n",
        "        self.optimizer.apply_gradients(zip(gradients, self.trainable_variables))\n",
        "        self.compiled_metrics.update_state(y, y_pred)\n",
        "\n",
        "        return {m.name: m.result() for m in self.metrics}\n",
        "\n",
        "# 모델 생성\n",
        "model = CustomModel()\n",
        "\n",
        "# 모델 컴파일\n",
        "model.compile(optimizer=tf.keras.optimizers.Adam(learning_rate=0.001),\n",
        "              loss='categorical_crossentropy', metrics=['accuracy'])\n",
        "\n",
        "# 모델 빌드 및 요약\n",
        "model.build(input_shape=(None, 10000))\n",
        "model.summary()\n",
        "\n",
        "# 학습률 스케줄러 콜백 정의\n",
        "def lr_scheduler(epoch, lr):\n",
        "    if epoch != 0 and epoch % 5 == 0:\n",
        "        new_lr = lr * 0.9\n",
        "        print(f\"\\nEpoch {epoch}: 학습률이 {new_lr:.5f}로 조정되었습니다.\")\n",
        "        return new_lr\n",
        "    return lr\n",
        "\n",
        "# 모델 학습 시 LearningRateScheduler 사용\n",
        "# model.fit(train_dataset, epochs=..., callbacks=[tf.keras.callbacks.LearningRateScheduler(lr_scheduler)])\n"
      ],
      "metadata": {
        "id": "ssk39dIf0gPp",
        "colab": {
          "base_uri": "https://localhost:8080/",
          "height": 249
        },
        "outputId": "c301956a-a8ca-4bce-f70b-bdbefd982b3a"
      },
      "execution_count": null,
      "outputs": [
        {
          "output_type": "stream",
          "name": "stderr",
          "text": [
            "/usr/local/lib/python3.10/dist-packages/keras/src/layers/layer.py:372: UserWarning: `build()` was called on layer 'custom_model_1', however the layer does not have a `build()` method implemented and it looks like it has unbuilt state. This will cause the layer to be marked as built, despite not being actually built, which may cause failures down the line. Make sure to implement a proper `build()` method.\n",
            "  warnings.warn(\n"
          ]
        },
        {
          "output_type": "display_data",
          "data": {
            "text/plain": [
              "\u001b[1mModel: \"custom_model_1\"\u001b[0m\n"
            ],
            "text/html": [
              "<pre style=\"white-space:pre;overflow-x:auto;line-height:normal;font-family:Menlo,'DejaVu Sans Mono',consolas,'Courier New',monospace\"><span style=\"font-weight: bold\">Model: \"custom_model_1\"</span>\n",
              "</pre>\n"
            ]
          },
          "metadata": {}
        },
        {
          "output_type": "display_data",
          "data": {
            "text/plain": [
              "┏━━━━━━━━━━━━━━━━━━━━━━━━━━━━━━━━━━━━━━┳━━━━━━━━━━━━━━━━━━━━━━━━━━━━━┳━━━━━━━━━━━━━━━━━┓\n",
              "┃\u001b[1m \u001b[0m\u001b[1mLayer (type)                        \u001b[0m\u001b[1m \u001b[0m┃\u001b[1m \u001b[0m\u001b[1mOutput Shape               \u001b[0m\u001b[1m \u001b[0m┃\u001b[1m \u001b[0m\u001b[1m        Param #\u001b[0m\u001b[1m \u001b[0m┃\n",
              "┡━━━━━━━━━━━━━━━━━━━━━━━━━━━━━━━━━━━━━━╇━━━━━━━━━━━━━━━━━━━━━━━━━━━━━╇━━━━━━━━━━━━━━━━━┩\n",
              "│ custom_block_1 (\u001b[38;5;33mCustomBlock\u001b[0m)         │ ?                           │     \u001b[38;5;34m0\u001b[0m (unbuilt) │\n",
              "├──────────────────────────────────────┼─────────────────────────────┼─────────────────┤\n",
              "│ dense_5 (\u001b[38;5;33mDense\u001b[0m)                      │ ?                           │     \u001b[38;5;34m0\u001b[0m (unbuilt) │\n",
              "└──────────────────────────────────────┴─────────────────────────────┴─────────────────┘\n"
            ],
            "text/html": [
              "<pre style=\"white-space:pre;overflow-x:auto;line-height:normal;font-family:Menlo,'DejaVu Sans Mono',consolas,'Courier New',monospace\">┏━━━━━━━━━━━━━━━━━━━━━━━━━━━━━━━━━━━━━━┳━━━━━━━━━━━━━━━━━━━━━━━━━━━━━┳━━━━━━━━━━━━━━━━━┓\n",
              "┃<span style=\"font-weight: bold\"> Layer (type)                         </span>┃<span style=\"font-weight: bold\"> Output Shape                </span>┃<span style=\"font-weight: bold\">         Param # </span>┃\n",
              "┡━━━━━━━━━━━━━━━━━━━━━━━━━━━━━━━━━━━━━━╇━━━━━━━━━━━━━━━━━━━━━━━━━━━━━╇━━━━━━━━━━━━━━━━━┩\n",
              "│ custom_block_1 (<span style=\"color: #0087ff; text-decoration-color: #0087ff\">CustomBlock</span>)         │ ?                           │     <span style=\"color: #00af00; text-decoration-color: #00af00\">0</span> (unbuilt) │\n",
              "├──────────────────────────────────────┼─────────────────────────────┼─────────────────┤\n",
              "│ dense_5 (<span style=\"color: #0087ff; text-decoration-color: #0087ff\">Dense</span>)                      │ ?                           │     <span style=\"color: #00af00; text-decoration-color: #00af00\">0</span> (unbuilt) │\n",
              "└──────────────────────────────────────┴─────────────────────────────┴─────────────────┘\n",
              "</pre>\n"
            ]
          },
          "metadata": {}
        },
        {
          "output_type": "display_data",
          "data": {
            "text/plain": [
              "\u001b[1m Total params: \u001b[0m\u001b[38;5;34m0\u001b[0m (0.00 B)\n"
            ],
            "text/html": [
              "<pre style=\"white-space:pre;overflow-x:auto;line-height:normal;font-family:Menlo,'DejaVu Sans Mono',consolas,'Courier New',monospace\"><span style=\"font-weight: bold\"> Total params: </span><span style=\"color: #00af00; text-decoration-color: #00af00\">0</span> (0.00 B)\n",
              "</pre>\n"
            ]
          },
          "metadata": {}
        },
        {
          "output_type": "display_data",
          "data": {
            "text/plain": [
              "\u001b[1m Trainable params: \u001b[0m\u001b[38;5;34m0\u001b[0m (0.00 B)\n"
            ],
            "text/html": [
              "<pre style=\"white-space:pre;overflow-x:auto;line-height:normal;font-family:Menlo,'DejaVu Sans Mono',consolas,'Courier New',monospace\"><span style=\"font-weight: bold\"> Trainable params: </span><span style=\"color: #00af00; text-decoration-color: #00af00\">0</span> (0.00 B)\n",
              "</pre>\n"
            ]
          },
          "metadata": {}
        },
        {
          "output_type": "display_data",
          "data": {
            "text/plain": [
              "\u001b[1m Non-trainable params: \u001b[0m\u001b[38;5;34m0\u001b[0m (0.00 B)\n"
            ],
            "text/html": [
              "<pre style=\"white-space:pre;overflow-x:auto;line-height:normal;font-family:Menlo,'DejaVu Sans Mono',consolas,'Courier New',monospace\"><span style=\"font-weight: bold\"> Non-trainable params: </span><span style=\"color: #00af00; text-decoration-color: #00af00\">0</span> (0.00 B)\n",
              "</pre>\n"
            ]
          },
          "metadata": {}
        }
      ]
    },
    {
      "cell_type": "code",
      "source": [
        "wide_layer = model.fit(x=x_train, y=tf.keras.utils.to_categorical(train_labels), batch_size=512, epochs=20, validation_split=0.2)"
      ],
      "metadata": {
        "colab": {
          "base_uri": "https://localhost:8080/"
        },
        "id": "L8GyTvig3Ntz",
        "outputId": "c3695944-1a86-4bcd-d719-ef5a5b9775be"
      },
      "execution_count": null,
      "outputs": [
        {
          "output_type": "stream",
          "name": "stdout",
          "text": [
            "Epoch 1/20\n",
            "\u001b[1m15/15\u001b[0m \u001b[32m━━━━━━━━━━━━━━━━━━━━\u001b[0m\u001b[37m\u001b[0m \u001b[1m4s\u001b[0m 196ms/step - accuracy: 0.3925 - loss: 0.0217 - val_accuracy: 0.6477 - val_loss: 1.6824\n",
            "Epoch 2/20\n",
            "\u001b[1m15/15\u001b[0m \u001b[32m━━━━━━━━━━━━━━━━━━━━\u001b[0m\u001b[37m\u001b[0m \u001b[1m4s\u001b[0m 133ms/step - accuracy: 0.6916 - loss: 0.0217 - val_accuracy: 0.7362 - val_loss: 1.2623\n",
            "Epoch 3/20\n",
            "\u001b[1m15/15\u001b[0m \u001b[32m━━━━━━━━━━━━━━━━━━━━\u001b[0m\u001b[37m\u001b[0m \u001b[1m2s\u001b[0m 132ms/step - accuracy: 0.7918 - loss: 0.0217 - val_accuracy: 0.7679 - val_loss: 1.0675\n",
            "Epoch 4/20\n",
            "\u001b[1m15/15\u001b[0m \u001b[32m━━━━━━━━━━━━━━━━━━━━\u001b[0m\u001b[37m\u001b[0m \u001b[1m2s\u001b[0m 142ms/step - accuracy: 0.8509 - loss: 0.0217 - val_accuracy: 0.7941 - val_loss: 0.9653\n",
            "Epoch 5/20\n",
            "\u001b[1m15/15\u001b[0m \u001b[32m━━━━━━━━━━━━━━━━━━━━\u001b[0m\u001b[37m\u001b[0m \u001b[1m2s\u001b[0m 136ms/step - accuracy: 0.9089 - loss: 0.0217 - val_accuracy: 0.7991 - val_loss: 0.9587\n",
            "Epoch 6/20\n",
            "\u001b[1m 1/15\u001b[0m \u001b[32m━\u001b[0m\u001b[37m━━━━━━━━━━━━━━━━━━━\u001b[0m \u001b[1m9s\u001b[0m 700ms/step - accuracy: 0.9297 - loss: 0.0217"
          ]
        }
      ]
    },
    {
      "cell_type": "code",
      "source": [
        "# 모델 학습 후 결과 시각화\n",
        "plot_training_history(wide_layer)"
      ],
      "metadata": {
        "id": "QxJZIv4JCZLa"
      },
      "execution_count": null,
      "outputs": []
    },
    {
      "cell_type": "markdown",
      "source": [
        "## 레이어를 깊게 변경해보기"
      ],
      "metadata": {
        "id": "RTSxNYNd3nGC"
      }
    },
    {
      "cell_type": "code",
      "source": [
        "from tensorflow.keras import Model\n",
        "from tensorflow.keras.layers import Dense\n",
        "import tensorflow as tf\n",
        "\n",
        "# 사용자 정의 블록 (모델 서브클래싱)\n",
        "class CustomBlock(Model):\n",
        "    def __init__(self, units, activation='relu'):\n",
        "        super(CustomBlock, self).__init__()\n",
        "        self.dense1 = Dense(units, activation=activation)  # 유닛 수를 그대로 유지\n",
        "        self.dense2 = Dense(units, activation=activation)  # 유닛 수를 그대로 유지\n",
        "\n",
        "    def call(self, inputs):\n",
        "        x = self.dense1(inputs)\n",
        "        return self.dense2(x)\n",
        "\n",
        "# 사용자 정의 모델 클래스\n",
        "class CustomModel(Model):\n",
        "    def __init__(self):\n",
        "        super(CustomModel, self).__init__()\n",
        "        self.block1 = CustomBlock(64)  # 유닛 수를 64로 설정\n",
        "        self.block2 = CustomBlock(64)  # 두 번째 블록 추가\n",
        "        self.block3 = CustomBlock(64)  # 세 번째 블록 추가\n",
        "        self.output_layer = Dense(46, activation='softmax')\n",
        "\n",
        "    # 깊은 구조\n",
        "    def call(self, inputs):\n",
        "        x = self.block1(inputs)\n",
        "        x = self.block2(x)\n",
        "        x = self.block3(x)\n",
        "        return self.output_layer(x)\n",
        "\n",
        "    # 학습률 조정 없이 사용자 정의 학습 단계\n",
        "    def train_step(self, data):\n",
        "        x, y = data\n",
        "\n",
        "        with tf.GradientTape() as tape:\n",
        "            y_pred = self(x, training=True)  # 모델 예측\n",
        "            loss = self.compiled_loss(y, y_pred)  # 손실 계산\n",
        "\n",
        "        gradients = tape.gradient(loss, self.trainable_variables)\n",
        "        self.optimizer.apply_gradients(zip(gradients, self.trainable_variables))\n",
        "        self.compiled_metrics.update_state(y, y_pred)\n",
        "\n",
        "        return {m.name: m.result() for m in self.metrics}\n",
        "\n",
        "# 모델 생성\n",
        "model = CustomModel()\n",
        "\n",
        "# 모델 컴파일\n",
        "model.compile(optimizer=tf.keras.optimizers.Adam(learning_rate=0.001),\n",
        "              loss='categorical_crossentropy', metrics=['accuracy'])\n",
        "\n",
        "# 모델 빌드 및 요약\n",
        "model.build(input_shape=(None, 10000))\n",
        "model.summary()\n",
        "\n",
        "# 학습률 스케줄러 콜백 정의\n",
        "def lr_scheduler(epoch, lr):\n",
        "    if epoch != 0 and epoch % 5 == 0:\n",
        "        new_lr = lr * 0.9\n",
        "        print(f\"\\nEpoch {epoch}: 학습률이 {new_lr:.5f}로 조정되었습니다.\")\n",
        "        return new_lr\n",
        "    return lr\n",
        "\n",
        "# 모델 학습 시 LearningRateScheduler 사용\n",
        "# model.fit(train_dataset, epochs=..., callbacks=[tf.keras.callbacks.LearningRateScheduler(lr_scheduler)])"
      ],
      "metadata": {
        "id": "7JSIlB-93YHi"
      },
      "execution_count": null,
      "outputs": []
    },
    {
      "cell_type": "code",
      "source": [
        "deep_layer = model.fit(x=x_train, y=tf.keras.utils.to_categorical(train_labels), batch_size=512, epochs=20, validation_split=0.2)"
      ],
      "metadata": {
        "id": "AmZAUjT83qu3"
      },
      "execution_count": null,
      "outputs": []
    },
    {
      "cell_type": "code",
      "source": [
        "# 모델 학습 후 결과 시각화\n",
        "plot_training_history(deep_layer)"
      ],
      "metadata": {
        "id": "DI7eJFNsCg4g"
      },
      "execution_count": null,
      "outputs": []
    },
    {
      "cell_type": "markdown",
      "source": [
        "## 3가지 그래프를 비교하기 위해 한번에 학습 진행"
      ],
      "metadata": {
        "id": "cg4O5XjHC0vn"
      }
    },
    {
      "cell_type": "code",
      "source": [
        "from tensorflow.keras import Model\n",
        "from tensorflow.keras.layers import Dense\n",
        "import tensorflow as tf\n",
        "import matplotlib.pyplot as plt\n",
        "\n",
        "# 사용자 정의 블록 (모델 서브클래싱)\n",
        "class CustomBlock(Model):\n",
        "    def __init__(self, units, activation='relu'):\n",
        "        super(CustomBlock, self).__init__()\n",
        "        self.dense1 = Dense(units, activation=activation)  # 유닛 수를 그대로 유지\n",
        "        self.dense2 = Dense(units, activation=activation)  # 유닛 수를 그대로 유지\n",
        "\n",
        "    def call(self, inputs):\n",
        "        x = self.dense1(inputs)\n",
        "        return self.dense2(x)\n",
        "\n",
        "# 사용자 정의 모델 클래스\n",
        "class CustomModel(Model):\n",
        "    def __init__(self, depth=1, units=64):\n",
        "        super(CustomModel, self).__init__()\n",
        "        self.blocks = [CustomBlock(units) for _ in range(depth)]  # 깊이에 따라 블록 생성\n",
        "        self.output_layer = Dense(46, activation='softmax')\n",
        "\n",
        "    # 깊은 구조\n",
        "    def call(self, inputs):\n",
        "        x = inputs\n",
        "        for block in self.blocks:\n",
        "            x = block(x)\n",
        "        return self.output_layer(x)\n",
        "\n",
        "    # 학습률 조정 없이 사용자 정의 학습 단계\n",
        "    def train_step(self, data):\n",
        "        x, y = data\n",
        "\n",
        "        with tf.GradientTape() as tape:\n",
        "            y_pred = self(x, training=True)  # 모델 예측\n",
        "            loss = self.compiled_loss(y, y_pred)  # 손실 계산\n",
        "\n",
        "        gradients = tape.gradient(loss, self.trainable_variables)\n",
        "        self.optimizer.apply_gradients(zip(gradients, self.trainable_variables))\n",
        "        self.compiled_metrics.update_state(y, y_pred)\n",
        "\n",
        "        return {m.name: m.result() for m in self.metrics}\n",
        "\n",
        "# 모델 생성\n",
        "layer = CustomModel(depth=1, units=64)  # 기본 레이어\n",
        "wide_layer = CustomModel(depth=1, units=128)  # 넓은 레이어\n",
        "deep_layer = CustomModel(depth=3, units=64)  # 깊은 레이어\n",
        "\n",
        "# 모델 컴파일\n",
        "for model in [layer, wide_layer, deep_layer]:\n",
        "    model.compile(optimizer=tf.keras.optimizers.Adam(learning_rate=0.001),\n",
        "                  loss='categorical_crossentropy', metrics=['accuracy'])\n",
        "    model.build(input_shape=(None, 10000))\n",
        "    model.summary()\n",
        "\n",
        "# 학습률 스케줄러 콜백 정의\n",
        "def lr_scheduler(epoch, lr):\n",
        "    if epoch != 0 and epoch % 5 == 0:\n",
        "        new_lr = lr * 0.9\n",
        "        print(f\"\\nEpoch {epoch}: 학습률이 {new_lr:.5f}로 조정되었습니다.\")\n",
        "        return new_lr\n",
        "    return lr\n",
        "\n",
        "# 모델 학습\n",
        "histories = {}\n",
        "for model_name, model in zip(['layer', 'wide_layer', 'deep_layer'], [layer, wide_layer, deep_layer]):\n",
        "    histories[model_name] = model.fit(x=x_train, y=tf.keras.utils.to_categorical(train_labels),\n",
        "                                      batch_size=512, epochs=20, validation_split=0.2,\n",
        "                                      callbacks=[tf.keras.callbacks.LearningRateScheduler(lr_scheduler)])\n",
        "\n",
        "# 학습 결과 시각화\n",
        "plt.figure(figsize=(14, 5))\n",
        "\n",
        "# 손실 그래프 그리기\n",
        "plt.subplot(1, 2, 1)\n",
        "for model_name, history in histories.items():\n",
        "    plt.plot(history.history['loss'], label=f'{model_name} 훈련 손실')\n",
        "    plt.plot(history.history['val_loss'], linestyle='--', label=f'{model_name} 검증 손실')\n",
        "plt.xlabel('에포크')\n",
        "plt.ylabel('손실')\n",
        "plt.title('훈련 및 검증 손실 비교')\n",
        "plt.legend()\n",
        "\n",
        "# 정확도 그래프 그리기\n",
        "plt.subplot(1, 2, 2)\n",
        "for model_name, history in histories.items():\n",
        "    plt.plot(history.history['accuracy'], label=f'{model_name} 훈련 정확도')\n",
        "    plt.plot(history.history['val_accuracy'], linestyle='--', label=f'{model_name} 검증 정확도')\n",
        "plt.xlabel('에포크')\n",
        "plt.ylabel('정확도')\n",
        "plt.title('훈련 및 검증 정확도 비교')\n",
        "plt.legend()\n",
        "\n",
        "plt.tight_layout()\n",
        "plt.show()\n"
      ],
      "metadata": {
        "id": "1SG7gxlx3w6W"
      },
      "execution_count": null,
      "outputs": []
    },
    {
      "cell_type": "code",
      "source": [
        "# 학습 결과 시각화\n",
        "plt.figure(figsize=(14, 5))\n",
        "\n",
        "# 손실 그래프 그리기\n",
        "plt.subplot(1, 2, 1)\n",
        "for model_name, history in histories.items():\n",
        "    plt.plot(history.history['loss'], label=f'{model_name} Training Loss')\n",
        "    plt.plot(history.history['val_loss'], linestyle='--', label=f'{model_name} Validation Loss')\n",
        "plt.xlabel('Epoch')\n",
        "plt.ylabel('Loss')\n",
        "plt.title('Training and Validation Loss Comparison')\n",
        "plt.legend()\n",
        "\n",
        "# 정확도 그래프 그리기\n",
        "plt.subplot(1, 2, 2)\n",
        "for model_name, history in histories.items():\n",
        "    plt.plot(history.history['accuracy'], label=f'{model_name} Training Accuracy')\n",
        "    plt.plot(history.history['val_accuracy'], linestyle='--', label=f'{model_name} Validation Accuracy')\n",
        "plt.xlabel('Epoch')\n",
        "plt.ylabel('Accuracy')\n",
        "plt.title('Training and Validation Accuracy Comparison')\n",
        "plt.legend()\n",
        "\n",
        "plt.tight_layout()\n",
        "plt.show()\n"
      ],
      "metadata": {
        "id": "0p-cIf8k39xn"
      },
      "execution_count": null,
      "outputs": []
    },
    {
      "cell_type": "markdown",
      "source": [
        "### layer 변경에 따른 차이\n",
        "- 해당 데이터에서는 기존 layer보다 deep layer에서 학습이 더 늦었음\n",
        "- deep에서 눈에 띄게 validation loss 값이 눈에 띄게 낮음."
      ],
      "metadata": {
        "id": "9f3tT5Y-D8B5"
      }
    },
    {
      "cell_type": "markdown",
      "source": [
        "# 2. Learning rate 변경"
      ],
      "metadata": {
        "id": "7-WfbSvaDBTJ"
      }
    },
    {
      "cell_type": "markdown",
      "source": [
        "# 0.1"
      ],
      "metadata": {
        "id": "TdKrJHBB3ZyI"
      }
    },
    {
      "cell_type": "code",
      "source": [
        "from tensorflow.keras import Model\n",
        "from tensorflow.keras.layers import Dense\n",
        "import tensorflow as tf\n",
        "\n",
        "# User-defined block (Model Subclassing)\n",
        "class CustomBlock(Model):\n",
        "    def __init__(self, units, activation='relu'):\n",
        "        super(CustomBlock, self).__init__()\n",
        "        self.dense1 = Dense(units, activation=activation)\n",
        "        self.dense2 = Dense(units // 2, activation=activation)\n",
        "\n",
        "    def call(self, inputs):\n",
        "        x = self.dense1(inputs)\n",
        "        return self.dense2(x)\n",
        "\n",
        "# User-defined model class\n",
        "class CustomModel(Model):\n",
        "    def __init__(self):\n",
        "        super(CustomModel, self).__init__()\n",
        "        self.block1 = CustomBlock(64)\n",
        "        self.output_layer = Dense(46, activation='softmax')\n",
        "\n",
        "    # Deeper structure\n",
        "    def call(self, inputs):\n",
        "        x = self.block1(inputs)\n",
        "        return self.output_layer(x)\n",
        "\n",
        "    # Custom training step without learning rate adjustment\n",
        "    def train_step(self, data):\n",
        "        x, y = data\n",
        "\n",
        "        with tf.GradientTape() as tape:\n",
        "            y_pred = self(x, training=True)  # Model prediction\n",
        "            loss = self.compiled_loss(y, y_pred)  # Calculate loss\n",
        "\n",
        "        gradients = tape.gradient(loss, self.trainable_variables)\n",
        "        self.optimizer.apply_gradients(zip(gradients, self.trainable_variables))\n",
        "        self.compiled_metrics.update_state(y, y_pred)\n",
        "\n",
        "        return {m.name: m.result() for m in self.metrics}\n",
        "\n",
        "# Create the model\n",
        "model = CustomModel()\n",
        "\n",
        "# Compile the model\n",
        "model.compile(optimizer=tf.keras.optimizers.Adam(learning_rate=0.1),\n",
        "              loss='categorical_crossentropy', metrics=['accuracy'])\n",
        "\n",
        "# Build and summarize the model\n",
        "model.build(input_shape=(None, 10000))\n",
        "model.summary()\n",
        "\n",
        "# Define the learning rate scheduler callback\n",
        "def lr_scheduler(epoch, lr):\n",
        "    if epoch != 0 and epoch % 5 == 0:\n",
        "        new_lr = lr * 0.9\n",
        "        print(f\"\\nEpoch {epoch}: Learning rate adjusted to {new_lr:.5f}.\")\n",
        "        return new_lr\n",
        "    return lr\n",
        "\n",
        "# When fitting the model, use the LearningRateScheduler\n",
        "# model.fit(train_dataset, epochs=..., callbacks=[tf.keras.callbacks.LearningRateScheduler(lr_scheduler)])"
      ],
      "metadata": {
        "id": "RYKJ29EnDuHW"
      },
      "execution_count": null,
      "outputs": []
    },
    {
      "cell_type": "code",
      "source": [
        "history = model.fit(x=x_train, y=tf.keras.utils.to_categorical(train_labels), batch_size=512, epochs=20, validation_split=0.2)"
      ],
      "metadata": {
        "id": "rnY7IP0cDuHX"
      },
      "execution_count": null,
      "outputs": []
    },
    {
      "cell_type": "code",
      "source": [
        "import matplotlib.pyplot as plt\n",
        "\n",
        "history_dict = history.history\n",
        "history_dict.keys()\n",
        "history_dict = history.history\n",
        "loss_values = history_dict[\"loss\"]\n",
        "val_loss_values = history_dict[\"val_loss\"]\n",
        "epochs = range(1, len(loss_values) + 1)\n",
        "plt.plot(epochs, loss_values, \"bo\", label=\"Training loss\")\n",
        "plt.plot(epochs, val_loss_values, \"b\", label=\"Validation loss\")\n",
        "plt.title(\"Training and validation loss\")\n",
        "plt.xlabel(\"Epochs\")\n",
        "plt.ylabel(\"Loss\")\n",
        "plt.legend()\n",
        "plt.show()"
      ],
      "metadata": {
        "id": "HFMqnLRoDuHX"
      },
      "execution_count": null,
      "outputs": []
    },
    {
      "cell_type": "markdown",
      "source": [
        "# 0.01"
      ],
      "metadata": {
        "id": "VS_xid433UAy"
      }
    },
    {
      "cell_type": "code",
      "source": [
        "from tensorflow.keras import Model\n",
        "from tensorflow.keras.layers import Dense\n",
        "import tensorflow as tf\n",
        "\n",
        "# User-defined block (Model Subclassing)\n",
        "class CustomBlock(Model):\n",
        "    def __init__(self, units, activation='relu'):\n",
        "        super(CustomBlock, self).__init__()\n",
        "        self.dense1 = Dense(units, activation=activation)\n",
        "        self.dense2 = Dense(units // 2, activation=activation)\n",
        "\n",
        "    def call(self, inputs):\n",
        "        x = self.dense1(inputs)\n",
        "        return self.dense2(x)\n",
        "\n",
        "# User-defined model class\n",
        "class CustomModel(Model):\n",
        "    def __init__(self):\n",
        "        super(CustomModel, self).__init__()\n",
        "        self.block1 = CustomBlock(64)\n",
        "        self.output_layer = Dense(46, activation='softmax')\n",
        "\n",
        "    # Deeper structure\n",
        "    def call(self, inputs):\n",
        "        x = self.block1(inputs)\n",
        "        return self.output_layer(x)\n",
        "\n",
        "    # Custom training step without learning rate adjustment\n",
        "    def train_step(self, data):\n",
        "        x, y = data\n",
        "\n",
        "        with tf.GradientTape() as tape:\n",
        "            y_pred = self(x, training=True)  # Model prediction\n",
        "            loss = self.compiled_loss(y, y_pred)  # Calculate loss\n",
        "\n",
        "        gradients = tape.gradient(loss, self.trainable_variables)\n",
        "        self.optimizer.apply_gradients(zip(gradients, self.trainable_variables))\n",
        "        self.compiled_metrics.update_state(y, y_pred)\n",
        "\n",
        "        return {m.name: m.result() for m in self.metrics}\n",
        "\n",
        "# Create the model\n",
        "model = CustomModel()\n",
        "\n",
        "# Compile the model\n",
        "model.compile(optimizer=tf.keras.optimizers.Adam(learning_rate=0.01),\n",
        "              loss='categorical_crossentropy', metrics=['accuracy'])\n",
        "\n",
        "# Build and summarize the model\n",
        "model.build(input_shape=(None, 10000))\n",
        "model.summary()\n",
        "\n",
        "# Define the learning rate scheduler callback\n",
        "def lr_scheduler(epoch, lr):\n",
        "    if epoch != 0 and epoch % 5 == 0:\n",
        "        new_lr = lr * 0.9\n",
        "        print(f\"\\nEpoch {epoch}: Learning rate adjusted to {new_lr:.5f}.\")\n",
        "        return new_lr\n",
        "    return lr\n",
        "\n",
        "# When fitting the model, use the LearningRateScheduler\n",
        "# model.fit(train_dataset, epochs=..., callbacks=[tf.keras.callbacks.LearningRateScheduler(lr_scheduler)])"
      ],
      "metadata": {
        "id": "x3uEau3b3kux"
      },
      "execution_count": null,
      "outputs": []
    },
    {
      "cell_type": "code",
      "source": [
        "history = model.fit(x=x_train, y=tf.keras.utils.to_categorical(train_labels), batch_size=512, epochs=20, validation_split=0.2)"
      ],
      "metadata": {
        "id": "fAmnfEdD3kuy"
      },
      "execution_count": null,
      "outputs": []
    },
    {
      "cell_type": "code",
      "source": [
        "import matplotlib.pyplot as plt\n",
        "\n",
        "history_dict = history.history\n",
        "history_dict.keys()\n",
        "history_dict = history.history\n",
        "loss_values = history_dict[\"loss\"]\n",
        "val_loss_values = history_dict[\"val_loss\"]\n",
        "epochs = range(1, len(loss_values) + 1)\n",
        "plt.plot(epochs, loss_values, \"bo\", label=\"Training loss\")\n",
        "plt.plot(epochs, val_loss_values, \"b\", label=\"Validation loss\")\n",
        "plt.title(\"Training and validation loss\")\n",
        "plt.xlabel(\"Epochs\")\n",
        "plt.ylabel(\"Loss\")\n",
        "plt.legend()\n",
        "plt.show()"
      ],
      "metadata": {
        "id": "aCz_GQqh3kuz"
      },
      "execution_count": null,
      "outputs": []
    },
    {
      "cell_type": "markdown",
      "source": [
        "# 0.005"
      ],
      "metadata": {
        "id": "p2DSntIx3Vij"
      }
    },
    {
      "cell_type": "code",
      "source": [
        "from tensorflow.keras import Model\n",
        "from tensorflow.keras.layers import Dense\n",
        "import tensorflow as tf\n",
        "\n",
        "# User-defined block (Model Subclassing)\n",
        "class CustomBlock(Model):\n",
        "    def __init__(self, units, activation='relu'):\n",
        "        super(CustomBlock, self).__init__()\n",
        "        self.dense1 = Dense(units, activation=activation)\n",
        "        self.dense2 = Dense(units // 2, activation=activation)\n",
        "\n",
        "    def call(self, inputs):\n",
        "        x = self.dense1(inputs)\n",
        "        return self.dense2(x)\n",
        "\n",
        "# User-defined model class\n",
        "class CustomModel(Model):\n",
        "    def __init__(self):\n",
        "        super(CustomModel, self).__init__()\n",
        "        self.block1 = CustomBlock(64)\n",
        "        self.output_layer = Dense(46, activation='softmax')\n",
        "\n",
        "    # Deeper structure\n",
        "    def call(self, inputs):\n",
        "        x = self.block1(inputs)\n",
        "        return self.output_layer(x)\n",
        "\n",
        "    # Custom training step without learning rate adjustment\n",
        "    def train_step(self, data):\n",
        "        x, y = data\n",
        "\n",
        "        with tf.GradientTape() as tape:\n",
        "            y_pred = self(x, training=True)  # Model prediction\n",
        "            loss = self.compiled_loss(y, y_pred)  # Calculate loss\n",
        "\n",
        "        gradients = tape.gradient(loss, self.trainable_variables)\n",
        "        self.optimizer.apply_gradients(zip(gradients, self.trainable_variables))\n",
        "        self.compiled_metrics.update_state(y, y_pred)\n",
        "\n",
        "        return {m.name: m.result() for m in self.metrics}\n",
        "\n",
        "# Create the model\n",
        "model = CustomModel()\n",
        "\n",
        "# Compile the model\n",
        "model.compile(optimizer=tf.keras.optimizers.Adam(learning_rate=0.005),\n",
        "              loss='categorical_crossentropy', metrics=['accuracy'])\n",
        "\n",
        "# Build and summarize the model\n",
        "model.build(input_shape=(None, 10000))\n",
        "model.summary()\n",
        "\n",
        "# Define the learning rate scheduler callback\n",
        "def lr_scheduler(epoch, lr):\n",
        "    if epoch != 0 and epoch % 5 == 0:\n",
        "        new_lr = lr * 0.9\n",
        "        print(f\"\\nEpoch {epoch}: Learning rate adjusted to {new_lr:.5f}.\")\n",
        "        return new_lr\n",
        "    return lr\n",
        "\n",
        "# When fitting the model, use the LearningRateScheduler\n",
        "# model.fit(train_dataset, epochs=..., callbacks=[tf.keras.callbacks.LearningRateScheduler(lr_scheduler)])"
      ],
      "metadata": {
        "id": "JmK0VqEi3lSn"
      },
      "execution_count": null,
      "outputs": []
    },
    {
      "cell_type": "code",
      "source": [
        "history = model.fit(x=x_train, y=tf.keras.utils.to_categorical(train_labels), batch_size=512, epochs=20, validation_split=0.2)"
      ],
      "metadata": {
        "id": "31Jqeb303lSo"
      },
      "execution_count": null,
      "outputs": []
    },
    {
      "cell_type": "code",
      "source": [
        "import matplotlib.pyplot as plt\n",
        "\n",
        "history_dict = history.history\n",
        "history_dict.keys()\n",
        "history_dict = history.history\n",
        "loss_values = history_dict[\"loss\"]\n",
        "val_loss_values = history_dict[\"val_loss\"]\n",
        "epochs = range(1, len(loss_values) + 1)\n",
        "plt.plot(epochs, loss_values, \"bo\", label=\"Training loss\")\n",
        "plt.plot(epochs, val_loss_values, \"b\", label=\"Validation loss\")\n",
        "plt.title(\"Training and validation loss\")\n",
        "plt.xlabel(\"Epochs\")\n",
        "plt.ylabel(\"Loss\")\n",
        "plt.legend()\n",
        "plt.show()"
      ],
      "metadata": {
        "id": "-XQDgRzb3lSo"
      },
      "execution_count": null,
      "outputs": []
    },
    {
      "cell_type": "markdown",
      "source": [
        "# 0.001"
      ],
      "metadata": {
        "id": "irQx0x4Z3Wxv"
      }
    },
    {
      "cell_type": "code",
      "source": [
        "from tensorflow.keras import Model\n",
        "from tensorflow.keras.layers import Dense\n",
        "import tensorflow as tf\n",
        "\n",
        "# User-defined block (Model Subclassing)\n",
        "class CustomBlock(Model):\n",
        "    def __init__(self, units, activation='relu'):\n",
        "        super(CustomBlock, self).__init__()\n",
        "        self.dense1 = Dense(units, activation=activation)\n",
        "        self.dense2 = Dense(units // 2, activation=activation)\n",
        "\n",
        "    def call(self, inputs):\n",
        "        x = self.dense1(inputs)\n",
        "        return self.dense2(x)\n",
        "\n",
        "# User-defined model class\n",
        "class CustomModel(Model):\n",
        "    def __init__(self):\n",
        "        super(CustomModel, self).__init__()\n",
        "        self.block1 = CustomBlock(64)\n",
        "        self.output_layer = Dense(46, activation='softmax')\n",
        "\n",
        "    # Deeper structure\n",
        "    def call(self, inputs):\n",
        "        x = self.block1(inputs)\n",
        "        return self.output_layer(x)\n",
        "\n",
        "    # Custom training step without learning rate adjustment\n",
        "    def train_step(self, data):\n",
        "        x, y = data\n",
        "\n",
        "        with tf.GradientTape() as tape:\n",
        "            y_pred = self(x, training=True)  # Model prediction\n",
        "            loss = self.compiled_loss(y, y_pred)  # Calculate loss\n",
        "\n",
        "        gradients = tape.gradient(loss, self.trainable_variables)\n",
        "        self.optimizer.apply_gradients(zip(gradients, self.trainable_variables))\n",
        "        self.compiled_metrics.update_state(y, y_pred)\n",
        "\n",
        "        return {m.name: m.result() for m in self.metrics}\n",
        "\n",
        "# Create the model\n",
        "model = CustomModel()\n",
        "\n",
        "# Compile the model\n",
        "model.compile(optimizer=tf.keras.optimizers.Adam(learning_rate=0.001),\n",
        "              loss='categorical_crossentropy', metrics=['accuracy'])\n",
        "\n",
        "# Build and summarize the model\n",
        "model.build(input_shape=(None, 10000))\n",
        "model.summary()\n",
        "\n",
        "# Define the learning rate scheduler callback\n",
        "def lr_scheduler(epoch, lr):\n",
        "    if epoch != 0 and epoch % 5 == 0:\n",
        "        new_lr = lr * 0.9\n",
        "        print(f\"\\nEpoch {epoch}: Learning rate adjusted to {new_lr:.5f}.\")\n",
        "        return new_lr\n",
        "    return lr\n",
        "\n",
        "# When fitting the model, use the LearningRateScheduler\n",
        "# model.fit(train_dataset, epochs=..., callbacks=[tf.keras.callbacks.LearningRateScheduler(lr_scheduler)])"
      ],
      "metadata": {
        "id": "gNenHr4Q3lmL"
      },
      "execution_count": null,
      "outputs": []
    },
    {
      "cell_type": "code",
      "source": [
        "history = model.fit(x=x_train, y=tf.keras.utils.to_categorical(train_labels), batch_size=512, epochs=20, validation_split=0.2)"
      ],
      "metadata": {
        "id": "YPG2PciF3lmM"
      },
      "execution_count": null,
      "outputs": []
    },
    {
      "cell_type": "code",
      "source": [
        "import matplotlib.pyplot as plt\n",
        "\n",
        "history_dict = history.history\n",
        "history_dict.keys()\n",
        "history_dict = history.history\n",
        "loss_values = history_dict[\"loss\"]\n",
        "val_loss_values = history_dict[\"val_loss\"]\n",
        "epochs = range(1, len(loss_values) + 1)\n",
        "plt.plot(epochs, loss_values, \"bo\", label=\"Training loss\")\n",
        "plt.plot(epochs, val_loss_values, \"b\", label=\"Validation loss\")\n",
        "plt.title(\"Training and validation loss\")\n",
        "plt.xlabel(\"Epochs\")\n",
        "plt.ylabel(\"Loss\")\n",
        "plt.legend()\n",
        "plt.show()"
      ],
      "metadata": {
        "id": "xGGGu0i13lmM"
      },
      "execution_count": null,
      "outputs": []
    },
    {
      "cell_type": "markdown",
      "source": [
        "# 0.0005"
      ],
      "metadata": {
        "id": "FnOKlr6Z3w1R"
      }
    },
    {
      "cell_type": "code",
      "source": [],
      "metadata": {
        "id": "8oPNysm53y3H"
      },
      "execution_count": null,
      "outputs": []
    },
    {
      "cell_type": "code",
      "source": [
        "from tensorflow.keras import Model\n",
        "from tensorflow.keras.layers import Dense\n",
        "import tensorflow as tf\n",
        "\n",
        "# User-defined block (Model Subclassing)\n",
        "class CustomBlock(Model):\n",
        "    def __init__(self, units, activation='relu'):\n",
        "        super(CustomBlock, self).__init__()\n",
        "        self.dense1 = Dense(units, activation=activation)\n",
        "        self.dense2 = Dense(units // 2, activation=activation)\n",
        "\n",
        "    def call(self, inputs):\n",
        "        x = self.dense1(inputs)\n",
        "        return self.dense2(x)\n",
        "\n",
        "# User-defined model class\n",
        "class CustomModel(Model):\n",
        "    def __init__(self):\n",
        "        super(CustomModel, self).__init__()\n",
        "        self.block1 = CustomBlock(64)\n",
        "        self.output_layer = Dense(46, activation='softmax')\n",
        "\n",
        "    # Deeper structure\n",
        "    def call(self, inputs):\n",
        "        x = self.block1(inputs)\n",
        "        return self.output_layer(x)\n",
        "\n",
        "    # Custom training step without learning rate adjustment\n",
        "    def train_step(self, data):\n",
        "        x, y = data\n",
        "\n",
        "        with tf.GradientTape() as tape:\n",
        "            y_pred = self(x, training=True)  # Model prediction\n",
        "            loss = self.compiled_loss(y, y_pred)  # Calculate loss\n",
        "\n",
        "        gradients = tape.gradient(loss, self.trainable_variables)\n",
        "        self.optimizer.apply_gradients(zip(gradients, self.trainable_variables))\n",
        "        self.compiled_metrics.update_state(y, y_pred)\n",
        "\n",
        "        return {m.name: m.result() for m in self.metrics}\n",
        "\n",
        "# Create the model\n",
        "model = CustomModel()\n",
        "\n",
        "# Compile the model\n",
        "model.compile(optimizer=tf.keras.optimizers.Adam(learning_rate=0.0005),\n",
        "              loss='categorical_crossentropy', metrics=['accuracy'])\n",
        "\n",
        "# Build and summarize the model\n",
        "model.build(input_shape=(None, 10000))\n",
        "model.summary()\n",
        "\n",
        "# Define the learning rate scheduler callback\n",
        "def lr_scheduler(epoch, lr):\n",
        "    if epoch != 0 and epoch % 5 == 0:\n",
        "        new_lr = lr * 0.9\n",
        "        print(f\"\\nEpoch {epoch}: Learning rate adjusted to {new_lr:.5f}.\")\n",
        "        return new_lr\n",
        "    return lr\n",
        "\n",
        "# When fitting the model, use the LearningRateScheduler\n",
        "# model.fit(train_dataset, epochs=..., callbacks=[tf.keras.callbacks.LearningRateScheduler(lr_scheduler)])"
      ],
      "metadata": {
        "id": "sDtEmzdl30nJ"
      },
      "execution_count": null,
      "outputs": []
    },
    {
      "cell_type": "code",
      "source": [
        "history = model.fit(x=x_train, y=tf.keras.utils.to_categorical(train_labels), batch_size=512, epochs=20, validation_split=0.2)"
      ],
      "metadata": {
        "id": "sXmIP7cM30nK"
      },
      "execution_count": null,
      "outputs": []
    },
    {
      "cell_type": "code",
      "source": [
        "import matplotlib.pyplot as plt\n",
        "\n",
        "history_dict = history.history\n",
        "history_dict.keys()\n",
        "history_dict = history.history\n",
        "loss_values = history_dict[\"loss\"]\n",
        "val_loss_values = history_dict[\"val_loss\"]\n",
        "epochs = range(1, len(loss_values) + 1)\n",
        "plt.plot(epochs, loss_values, \"bo\", label=\"Training loss\")\n",
        "plt.plot(epochs, val_loss_values, \"b\", label=\"Validation loss\")\n",
        "plt.title(\"Training and validation loss\")\n",
        "plt.xlabel(\"Epochs\")\n",
        "plt.ylabel(\"Loss\")\n",
        "plt.legend()\n",
        "plt.show()"
      ],
      "metadata": {
        "id": "E7zm8ysz30nK"
      },
      "execution_count": null,
      "outputs": []
    },
    {
      "cell_type": "markdown",
      "source": [
        "### learning rate에 따른 차이\n",
        "- learning rate가 높은 경우, 빠르게 하한값에 접근하지만 극점에 수렴하지 못하고 진동하거나 극점을 지나친다.\n",
        "- learning rate가 낮은 경우, 극점에 수렴하기까지 시간이 오래 걸리지만(불필요한 학습) learning rate가 높을 때보다 더 낮은 loss 값을 보여준다. 때론, 지역최저점에 빠져 나오지 못하는 경우도 있음에 유의."
      ],
      "metadata": {
        "id": "DeA0etSmEPCH"
      }
    },
    {
      "cell_type": "markdown",
      "source": [
        "# 3. activation function 변경해보기\n",
        "- relu, tanh, sigmoid"
      ],
      "metadata": {
        "id": "N9eGMkEiESPN"
      }
    },
    {
      "cell_type": "code",
      "source": [
        "# ReLU\n",
        "history_dict_sigmoid = history.history"
      ],
      "metadata": {
        "id": "yxr8d5CW-x_q"
      },
      "execution_count": null,
      "outputs": []
    },
    {
      "cell_type": "code",
      "source": [
        "import matplotlib.pyplot as plt\n",
        "# relu\n",
        "\n",
        "history_dict = history.history\n",
        "loss_values = history_dict[\"loss\"]\n",
        "val_loss_values = history_dict[\"val_loss\"]\n",
        "epochs = range(1, len(loss_values) + 1)\n",
        "plt.plot(epochs, loss_values, \"bo\", label=\"Training loss\")\n",
        "plt.plot(epochs, val_loss_values, \"b\", label=\"Validation loss\")\n",
        "plt.title(\"Training and validation loss\")\n",
        "plt.xlabel(\"Epochs\")\n",
        "plt.ylabel(\"Loss\")\n",
        "plt.legend()\n",
        "plt.show()"
      ],
      "metadata": {
        "id": "CQiW8SWFEl7M"
      },
      "execution_count": null,
      "outputs": []
    },
    {
      "cell_type": "code",
      "source": [
        "#tanh\n",
        "\n",
        "history_dict = history.history\n",
        "loss_values = history_dict[\"loss\"]\n",
        "val_loss_values = history_dict[\"val_loss\"]\n",
        "epochs = range(1, len(loss_values) + 1)\n",
        "plt.plot(epochs, loss_values, \"bo\", label=\"Training loss\")\n",
        "plt.plot(epochs, val_loss_values, \"b\", label=\"Validation loss\")\n",
        "plt.title(\"Training and validation loss\")\n",
        "plt.xlabel(\"Epochs\")\n",
        "plt.ylabel(\"Loss\")\n",
        "plt.legend()\n",
        "plt.show()"
      ],
      "metadata": {
        "id": "fM9bV4bb3JVW"
      },
      "execution_count": null,
      "outputs": []
    },
    {
      "cell_type": "code",
      "source": [
        "#sigmoid\n",
        "\n",
        "history_dict = history.history\n",
        "loss_values = history_dict[\"loss\"]\n",
        "val_loss_values = history_dict[\"val_loss\"]\n",
        "epochs = range(1, len(loss_values) + 1)\n",
        "plt.plot(epochs, loss_values, \"bo\", label=\"Training loss\")\n",
        "plt.plot(epochs, val_loss_values, \"b\", label=\"Validation loss\")\n",
        "plt.title(\"Training and validation loss\")\n",
        "plt.xlabel(\"Epochs\")\n",
        "plt.ylabel(\"Loss\")\n",
        "plt.legend()\n",
        "plt.show()"
      ],
      "metadata": {
        "id": "9Tc6qTK56e6R"
      },
      "execution_count": null,
      "outputs": []
    },
    {
      "cell_type": "code",
      "source": [
        "import matplotlib.pyplot as plt\n",
        "\n",
        "# ReLU\n",
        "loss_values_relu = history_dict_relu[\"loss\"]\n",
        "val_loss_values_relu = history_dict_relu[\"val_loss\"]\n",
        "\n",
        "loss_values_tanh = history_dict_tanh[\"loss\"]\n",
        "val_loss_values_tanh = history_dict_tanh[\"val_loss\"]\n",
        "\n",
        "# Sigmoid\n",
        "loss_values_sigmoid = history_dict_sigmoid[\"loss\"]\n",
        "val_loss_values_sigmoid = history_dict_sigmoid[\"val_loss\"]\n",
        "\n",
        "# Epochs range\n",
        "epochs = range(1, len(loss_values_relu) + 1)\n",
        "\n",
        "# Plot training loss\n",
        "plt.plot(epochs, loss_values_relu, \"r-\", label=\"ReLU Training loss\")\n",
        "plt.plot(epochs, loss_values_tanh, \"g-\", label=\"Tanh Training loss\")\n",
        "plt.plot(epochs, loss_values_sigmoid, \"b-\", label=\"Sigmoid Training loss\")\n",
        "\n",
        "# Plot validation loss\n",
        "plt.plot(epochs, val_loss_values_relu, \"r--\", label=\"ReLU Validation loss\")\n",
        "plt.plot(epochs, val_loss_values_tanh, \"g--\", label=\"Tanh Validation loss\")\n",
        "plt.plot(epochs, val_loss_values_sigmoid, \"b--\", label=\"Sigmoid Validation loss\")\n",
        "\n",
        "# Graph details\n",
        "plt.title(\"Training and Validation Loss Comparison\")\n",
        "plt.xlabel(\"Epochs\")\n",
        "plt.ylabel(\"Loss\")\n",
        "plt.legend()\n",
        "plt.show()\n"
      ],
      "metadata": {
        "id": "kQEUlA5f63QQ"
      },
      "execution_count": null,
      "outputs": []
    },
    {
      "cell_type": "markdown",
      "source": [
        "### activation function 변경에 따른 차이\n",
        "- 단순히 loss율로 따졌을 때 Sigmoid < ReLU < Tanh 순으로 성능이 좋다고 볼 수 있다.\n",
        "- ReLU와 Tanh의 성능은 비슷해 보이는데 첫 에포크의 loss율 시작점을 보면 가중치 초기값이 Tanh를 썼을 때 더 좋았던 모양이다."
      ],
      "metadata": {
        "id": "jICJ71r0Etz1"
      }
    },
    {
      "cell_type": "markdown",
      "source": [
        "# 회고 작성\n",
        "- 김민규 :\n",
        "  - 아쉬운 점\n",
        "\n",
        "    callback함수로 이미 구현되어 있는 기능이었다.\n",
        "\n",
        "    좀 더 복잡한 데이터셋을 사용해봤으면 하이퍼 파라미터 변화에 따른 결과의 차이가 두드러졌을 것 같다.)\n",
        "  - 좋은 점\n",
        "    \n",
        "    직접 사용자 정의 모델을 작성해볼 수 있는 좋은 경험이었다.\n",
        "\n",
        "  - 앞으로\n",
        "  \n",
        "    다른 조에서 맡은 사용자 정의 평가 지표가 좀 더 중요한 내용인 것 같아 따로 시도해 볼 생각이다.\n",
        "\n",
        "- 김우찬 : 너무나 어렵습니다... 열심히 공부해보겠읍니다...\n",
        "\n",
        "- 김승기 : 7장에서 본 사용자 정의함수를 직접 테스트 해봤지만 아직 코드에 대한 이해가 부족한 것 같습니다. 책과 함께 보면서 계속 봐야 알 것 같습니다.\n",
        "\n",
        "## 우리의 학습템플릿\n",
        "- https://www.notion.so/modulabs/2b16dbae56d94193b676f562a41eeac3?p=42d95c72fac1493ba3fcdfc2f0a3db9b&pm=s"
      ],
      "metadata": {
        "id": "4L7-1Gg1EzLR"
      }
    },
    {
      "cell_type": "code",
      "source": [],
      "metadata": {
        "id": "XUlQZ5trOwkP"
      },
      "execution_count": null,
      "outputs": []
    }
  ]
}