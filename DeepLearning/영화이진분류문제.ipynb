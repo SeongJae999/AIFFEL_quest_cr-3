{
  "cells": [
    {
      "cell_type": "markdown",
      "metadata": {
        "id": "view-in-github",
        "colab_type": "text"
      },
      "source": [
        "<a href=\"https://colab.research.google.com/github/incheonQ/AIFFEL_quest_cr/blob/main/DeepLearning/%EC%98%81%ED%99%94%EC%9D%B4%EC%A7%84%EB%B6%84%EB%A5%98%EB%AC%B8%EC%A0%9C.ipynb\" target=\"_parent\"><img src=\"https://colab.research.google.com/assets/colab-badge.svg\" alt=\"Open In Colab\"/></a>"
      ]
    },
    {
      "cell_type": "code",
      "execution_count": 1,
      "metadata": {
        "colab": {
          "base_uri": "https://localhost:8080/"
        },
        "id": "BCRZMitSxP02",
        "outputId": "c3c4362b-beb0-4ed1-8bed-86127906e95e"
      },
      "outputs": [
        {
          "output_type": "stream",
          "name": "stdout",
          "text": [
            "Downloading data from https://storage.googleapis.com/tensorflow/tf-keras-datasets/imdb.npz\n",
            "17464789/17464789 [==============================] - 0s 0us/step\n"
          ]
        }
      ],
      "source": [
        "# IMDB 데이터\n",
        "from tensorflow.keras.datasets import imdb\n",
        "\n",
        "(train_data, train_labels), (test_data, test_labels) = imdb.load_data(num_words=10000)"
      ]
    },
    {
      "cell_type": "code",
      "execution_count": 2,
      "metadata": {
        "id": "AvXEbdRzxP06"
      },
      "outputs": [],
      "source": [
        "import numpy as np\n",
        "\n",
        "def vectorize_sequences(sequences, dimension=10000):\n",
        "    results = np.zeros((len(sequences), dimension))\n",
        "    for i, sequence in enumerate(sequences):\n",
        "        results[i, sequence] = 1.\n",
        "    return results\n",
        "\n",
        "x_train = vectorize_sequences(train_data)\n",
        "x_test = vectorize_sequences(test_data)\n",
        "\n",
        "y_train = np.asarray(train_labels).astype(\"float32\")\n",
        "y_test = np.asarray(test_labels).astype(\"float32\")"
      ]
    },
    {
      "cell_type": "code",
      "execution_count": 10,
      "metadata": {
        "colab": {
          "base_uri": "https://localhost:8080/",
          "height": 219
        },
        "id": "ZLOxZZCXxP07",
        "outputId": "b620d9c7-82d5-4eca-c14d-9f23bb8cbe78"
      },
      "outputs": [
        {
          "output_type": "error",
          "ename": "NameError",
          "evalue": "name 'max_length' is not defined",
          "traceback": [
            "\u001b[0;31m---------------------------------------------------------------------------\u001b[0m",
            "\u001b[0;31mNameError\u001b[0m                                 Traceback (most recent call last)",
            "\u001b[0;32m<ipython-input-10-e16d202a916c>\u001b[0m in \u001b[0;36m<cell line: 16>\u001b[0;34m()\u001b[0m\n\u001b[1;32m     15\u001b[0m \u001b[0;34m\u001b[0m\u001b[0m\n\u001b[1;32m     16\u001b[0m model = keras.Sequential([\n\u001b[0;32m---> 17\u001b[0;31m     \u001b[0mlayers\u001b[0m\u001b[0;34m.\u001b[0m\u001b[0mEmbedding\u001b[0m\u001b[0;34m(\u001b[0m\u001b[0mvocab_size\u001b[0m\u001b[0;34m,\u001b[0m \u001b[0;36m128\u001b[0m\u001b[0;34m,\u001b[0m \u001b[0minput_length\u001b[0m\u001b[0;34m=\u001b[0m\u001b[0mmax_length\u001b[0m\u001b[0;34m)\u001b[0m\u001b[0;34m,\u001b[0m\u001b[0;34m\u001b[0m\u001b[0;34m\u001b[0m\u001b[0m\n\u001b[0m\u001b[1;32m     18\u001b[0m     \u001b[0mlayers\u001b[0m\u001b[0;34m.\u001b[0m\u001b[0mLSTM\u001b[0m\u001b[0;34m(\u001b[0m\u001b[0;36m64\u001b[0m\u001b[0;34m,\u001b[0m \u001b[0mdropout\u001b[0m\u001b[0;34m=\u001b[0m\u001b[0;36m0.2\u001b[0m\u001b[0;34m,\u001b[0m \u001b[0mrecurrent_dropout\u001b[0m\u001b[0;34m=\u001b[0m\u001b[0;36m0.2\u001b[0m\u001b[0;34m)\u001b[0m\u001b[0;34m,\u001b[0m\u001b[0;34m\u001b[0m\u001b[0;34m\u001b[0m\u001b[0m\n\u001b[1;32m     19\u001b[0m     \u001b[0mlayers\u001b[0m\u001b[0;34m.\u001b[0m\u001b[0mDense\u001b[0m\u001b[0;34m(\u001b[0m\u001b[0;36m32\u001b[0m\u001b[0;34m,\u001b[0m \u001b[0mactivation\u001b[0m\u001b[0;34m=\u001b[0m\u001b[0;34m'relu'\u001b[0m\u001b[0;34m)\u001b[0m\u001b[0;34m,\u001b[0m\u001b[0;34m\u001b[0m\u001b[0;34m\u001b[0m\u001b[0m\n",
            "\u001b[0;31mNameError\u001b[0m: name 'max_length' is not defined"
          ]
        }
      ],
      "source": [
        "from tensorflow import keras\n",
        "from tensorflow.keras import layers, regularizers\n",
        "\n",
        "model = keras.Sequential([\n",
        "    layers.Dense(64, activation=\"relu\", kernel_regularizer=regularizers.l2(0.001), input_shape=(10000,)),\n",
        "    layers.Dropout(0.5),\n",
        "    layers.Dense(32, activation=\"relu\", kernel_regularizer=regularizers.l2(0.001)),\n",
        "    layers.Dropout(0.5),\n",
        "    layers.Dense(16, activation=\"relu\", kernel_regularizer=regularizers.l2(0.001)),\n",
        "    layers.Dropout(0.5),\n",
        "    layers.Dense(1, activation=\"sigmoid\")\n",
        "])\n",
        "\n",
        "\n",
        "model.compile(optimizer=keras.optimizers.Adam(learning_rate=0.0005),\n",
        "              loss='binary_crossentropy',\n",
        "              metrics=['accuracy'])\n",
        "\n"
      ]
    },
    {
      "cell_type": "code",
      "execution_count": 4,
      "metadata": {
        "id": "NcgQObl5xP08"
      },
      "outputs": [],
      "source": [
        "from sklearn.model_selection import train_test_split\n",
        "x_train, x_val, y_train, y_val = train_test_split(x_train, y_train, test_size=0.2, random_state=42)"
      ]
    },
    {
      "cell_type": "code",
      "execution_count": 7,
      "metadata": {
        "colab": {
          "base_uri": "https://localhost:8080/"
        },
        "id": "PuFx5hfUxP09",
        "outputId": "411f907d-6f4c-423c-d221-a29976ad9821"
      },
      "outputs": [
        {
          "output_type": "stream",
          "name": "stdout",
          "text": [
            "Epoch 1/30\n",
            "313/313 [==============================] - 2s 7ms/step - loss: 0.3571 - accuracy: 0.9170 - val_loss: 0.3920 - val_accuracy: 0.8844 - lr: 2.5000e-04\n",
            "Epoch 2/30\n",
            "313/313 [==============================] - 2s 6ms/step - loss: 0.3141 - accuracy: 0.9323 - val_loss: 0.4069 - val_accuracy: 0.8784 - lr: 2.5000e-04\n",
            "Epoch 3/30\n",
            "313/313 [==============================] - 2s 6ms/step - loss: 0.2823 - accuracy: 0.9452 - val_loss: 0.4196 - val_accuracy: 0.8778 - lr: 2.5000e-04\n",
            "Epoch 4/30\n",
            "313/313 [==============================] - 2s 6ms/step - loss: 0.2570 - accuracy: 0.9531 - val_loss: 0.4330 - val_accuracy: 0.8804 - lr: 1.2500e-04\n",
            "Epoch 5/30\n",
            "313/313 [==============================] - 2s 6ms/step - loss: 0.2393 - accuracy: 0.9568 - val_loss: 0.4402 - val_accuracy: 0.8764 - lr: 1.2500e-04\n",
            "Epoch 6/30\n",
            "313/313 [==============================] - 2s 6ms/step - loss: 0.2212 - accuracy: 0.9640 - val_loss: 0.4555 - val_accuracy: 0.8784 - lr: 6.2500e-05\n",
            "Epoch 7/30\n",
            "313/313 [==============================] - 2s 6ms/step - loss: 0.2085 - accuracy: 0.9669 - val_loss: 0.4618 - val_accuracy: 0.8782 - lr: 6.2500e-05\n",
            "Epoch 8/30\n",
            "313/313 [==============================] - 2s 6ms/step - loss: 0.2034 - accuracy: 0.9700 - val_loss: 0.4659 - val_accuracy: 0.8770 - lr: 3.1250e-05\n",
            "Epoch 9/30\n",
            "313/313 [==============================] - 2s 6ms/step - loss: 0.1985 - accuracy: 0.9701 - val_loss: 0.4707 - val_accuracy: 0.8796 - lr: 3.1250e-05\n",
            "Epoch 10/30\n",
            "313/313 [==============================] - 2s 6ms/step - loss: 0.1914 - accuracy: 0.9740 - val_loss: 0.4796 - val_accuracy: 0.8782 - lr: 1.5625e-05\n",
            "Epoch 11/30\n",
            "313/313 [==============================] - 2s 6ms/step - loss: 0.1891 - accuracy: 0.9741 - val_loss: 0.4798 - val_accuracy: 0.8786 - lr: 1.5625e-05\n"
          ]
        }
      ],
      "source": [
        "history = model.fit(x_train,\n",
        "                    y_train,\n",
        "                    epochs=30,\n",
        "                    batch_size=64,\n",
        "                    validation_data=(x_val, y_val),\n",
        "                    callbacks=[\n",
        "                        keras.callbacks.EarlyStopping(patience=10, restore_best_weights=True),\n",
        "                        keras.callbacks.ReduceLROnPlateau(factor=0.5, patience=2, min_lr=0.00001)\n",
        "                    ])"
      ]
    },
    {
      "cell_type": "code",
      "execution_count": 9,
      "metadata": {
        "colab": {
          "base_uri": "https://localhost:8080/"
        },
        "id": "G5WorrEvxP0-",
        "outputId": "5a494661-6434-4185-90cc-05a91ec44488"
      },
      "outputs": [
        {
          "output_type": "stream",
          "name": "stdout",
          "text": [
            "782/782 [==============================] - 2s 2ms/step - loss: 0.3980 - accuracy: 0.8832\n",
            "테스트 정확도: 0.883\n"
          ]
        }
      ],
      "source": [
        "test_loss, test_acc = model.evaluate(x_test, y_test)\n",
        "print(f'테스트 정확도: {test_acc:.3f}')"
      ]
    },
    {
      "cell_type": "code",
      "source": [
        "import numpy as np\n",
        "from tensorflow.keras.preprocessing.sequence import pad_sequences\n",
        "\n",
        "# 시퀀스 패딩\n",
        "max_length = 500\n",
        "x_train = pad_sequences(train_data, maxlen=max_length)\n",
        "x_test = pad_sequences(test_data, maxlen=max_length)\n",
        "\n",
        "y_train = np.asarray(train_labels).astype(\"float32\")\n",
        "y_test = np.asarray(test_labels).astype(\"float32\")\n",
        "\n",
        "# 검증 세트 분리\n",
        "x_train, x_val, y_train, y_val = train_test_split(x_train, y_train, test_size=0.2, random_state=42)\n",
        "\n",
        "from tensorflow import keras\n",
        "from tensorflow.keras import layers\n",
        "\n",
        "vocab_size = 10000  # imdb.load_data에서 사용한 num_words와 동일한 값\n",
        "\n",
        "model = keras.Sequential([\n",
        "    layers.Embedding(vocab_size, 128, input_length=max_length),\n",
        "    layers.LSTM(64, dropout=0.2, recurrent_dropout=0.2),\n",
        "    layers.Dense(32, activation='relu'),\n",
        "    layers.Dropout(0.5),\n",
        "    layers.Dense(1, activation='sigmoid')\n",
        "])\n",
        "\n",
        "model.compile(optimizer='adam',\n",
        "              loss='binary_crossentropy',\n",
        "              metrics=['accuracy'])\n",
        "\n",
        "history = model.fit(x_train,\n",
        "                    y_train,\n",
        "                    epochs=10,\n",
        "                    batch_size=32,\n",
        "                    validation_data=(x_val, y_val),\n",
        "                    callbacks=[\n",
        "                        keras.callbacks.EarlyStopping(patience=2, restore_best_weights=True),\n",
        "                        keras.callbacks.ReduceLROnPlateau(factor=0.5, patience=1)\n",
        "                    ])\n",
        "\n",
        "# 모델 평가\n",
        "test_loss, test_acc = model.evaluate(x_test, y_test)\n",
        "print(f'테스트 정확도: {test_acc:.3f}')"
      ],
      "metadata": {
        "colab": {
          "base_uri": "https://localhost:8080/"
        },
        "id": "TIu72Hohx6Se",
        "outputId": "379b27b3-48c5-4e42-ee0c-abb23a9285e5"
      },
      "execution_count": 11,
      "outputs": [
        {
          "output_type": "stream",
          "name": "stdout",
          "text": [
            "Epoch 1/10\n",
            "625/625 [==============================] - 176s 279ms/step - loss: 0.4731 - accuracy: 0.7812 - val_loss: 0.3269 - val_accuracy: 0.8654 - lr: 0.0010\n",
            "Epoch 2/10\n",
            "625/625 [==============================] - 172s 275ms/step - loss: 0.2708 - accuracy: 0.9003 - val_loss: 0.3350 - val_accuracy: 0.8722 - lr: 0.0010\n",
            "Epoch 3/10\n",
            "625/625 [==============================] - 173s 277ms/step - loss: 0.1909 - accuracy: 0.9345 - val_loss: 0.3218 - val_accuracy: 0.8788 - lr: 5.0000e-04\n",
            "Epoch 4/10\n",
            "625/625 [==============================] - 172s 275ms/step - loss: 0.1354 - accuracy: 0.9549 - val_loss: 0.3773 - val_accuracy: 0.8794 - lr: 5.0000e-04\n",
            "Epoch 5/10\n",
            "625/625 [==============================] - 173s 277ms/step - loss: 0.0886 - accuracy: 0.9721 - val_loss: 0.4337 - val_accuracy: 0.8798 - lr: 2.5000e-04\n",
            "782/782 [==============================] - 49s 63ms/step - loss: 0.3369 - accuracy: 0.8740\n",
            "테스트 정확도: 0.874\n"
          ]
        }
      ]
    },
    {
      "cell_type": "code",
      "source": [],
      "metadata": {
        "id": "s4qMr0D6yc1T"
      },
      "execution_count": null,
      "outputs": []
    }
  ],
  "metadata": {
    "language_info": {
      "name": "python"
    },
    "colab": {
      "provenance": [],
      "machine_shape": "hm",
      "gpuType": "V28",
      "include_colab_link": true
    },
    "kernelspec": {
      "name": "python3",
      "display_name": "Python 3"
    },
    "accelerator": "TPU"
  },
  "nbformat": 4,
  "nbformat_minor": 0
}