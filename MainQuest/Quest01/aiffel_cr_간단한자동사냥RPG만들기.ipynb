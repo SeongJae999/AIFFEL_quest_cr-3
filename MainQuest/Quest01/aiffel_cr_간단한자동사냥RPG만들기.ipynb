{
  "nbformat": 4,
  "nbformat_minor": 0,
  "metadata": {
    "colab": {
      "provenance": [],
      "authorship_tag": "ABX9TyMuu7LTmxoOL4kOEIpVKJdP",
      "include_colab_link": true
    },
    "kernelspec": {
      "name": "python3",
      "display_name": "Python 3"
    },
    "language_info": {
      "name": "python"
    }
  },
  "cells": [
    {
      "cell_type": "markdown",
      "metadata": {
        "id": "view-in-github",
        "colab_type": "text"
      },
      "source": [
        "<a href=\"https://colab.research.google.com/github/incheonQ/AIFFEL_quest_cr/blob/main/MainQuest/Quest01/aiffel_cr_%EA%B0%84%EB%8B%A8%ED%95%9C%EC%9E%90%EB%8F%99%EC%82%AC%EB%83%A5RPG%EB%A7%8C%EB%93%A4%EA%B8%B0.ipynb\" target=\"_parent\"><img src=\"https://colab.research.google.com/assets/colab-badge.svg\" alt=\"Open In Colab\"/></a>"
      ]
    },
    {
      "cell_type": "code",
      "execution_count": 1,
      "metadata": {
        "id": "iS8NR1kvdw7-"
      },
      "outputs": [],
      "source": [
        "# 간단한 자동사냥 RPG 만들기\n",
        "\n",
        "import random\n",
        "\n",
        "class Character:\n",
        "    def __init__(self, 이름):\n",
        "        self.이름 = 이름\n",
        "        self.레벨 = 0\n",
        "        self.체력 = 0\n",
        "        self.공격력 = 0\n",
        "        self.방어력 = 0\n",
        "\n",
        "    def is_alive(self):\n",
        "        return self.체력 > 0\n",
        "\n",
        "    def take_damage(self, 데미지):\n",
        "        if self.방어력 < 데미지:\n",
        "          self.체력 -= (데미지 - self.방어력)\n",
        "\n",
        "    def attack_target(self, 상대):\n",
        "        상대.take_damage(self.공격력)\n",
        "        print(f'{self.이름}이(가) {상대.이름}에게 {(self.공격력 - 상대.방어력)}만큼 공격했다...!')\n",
        "        return random.randint(1, self.공격력)\n",
        "\n",
        "\n",
        "class Player(Character):\n",
        "    def __init__(self, 이름):\n",
        "        super().__init__(self)\n",
        "        self.이름 = 이름\n",
        "        self.레벨 = 1\n",
        "        self.체력 = 100\n",
        "        self.공격력 = 25\n",
        "        self.방어력 = 5\n",
        "        self.경험치 = 0\n",
        "\n",
        "    def gain_experience(self, 획득경험치):\n",
        "        self.경험치 += 획득경험치\n",
        "\n",
        "    def level_up(self):\n",
        "        if self.경험치 >= 50:\n",
        "            self.레벨 += 1\n",
        "            self.공격력 += 10\n",
        "            self.방어력 += 5\n",
        "            self.경험치 -= 50\n",
        "\n",
        "class Monster(Character):\n",
        "    def __init__(self, 이름, 레벨):\n",
        "        super().__init__(self)\n",
        "        self.이름 = 이름\n",
        "        self.레벨 = 레벨\n",
        "        self.체력 = self.레벨 * random.randint(10, 30)\n",
        "        self.공격력 = self.레벨 * random.randint(5, 20)\n",
        "        self.방어력 = self.레벨 * random.randint(1, 5)\n",
        "\n",
        "\n",
        "\n",
        "def battle(플레이어, 몬스터):\n",
        "    print(f'{몬스터.이름}와(과)의 전투를 시작합니다.')\n",
        "\n",
        "    순서 = [플레이어, 몬스터]\n",
        "    while 플레이어.is_alive() and 몬스터.is_alive():\n",
        "        공격 = 순서[0].attack_target(순서[1])\n",
        "        print(f'{순서[1].이름}의 체력: {순서[1].체력}')\n",
        "        순서[0], 순서[1] = 순서[1], 순서[0]\n",
        "\n",
        "    if 플레이어.is_alive():\n",
        "        플레이어.gain_experience(몬스터.레벨*20)\n",
        "        플레이어.level_up()\n",
        "        print('전투 승리!')\n",
        "        print(f'{몬스터.이름}을(를) 이겼다!')\n",
        "    else:\n",
        "        print('전투 패배..')\n"
      ]
    },
    {
      "cell_type": "code",
      "source": [
        "def main():\n",
        "    monster_dict = {'슬라임':1, '고블린':2, '오크':3}\n",
        "\n",
        "    플레이어 = Player('김민규')\n",
        "\n",
        "    for i in monster_dict.items():\n",
        "        globals()[f'{i[0]}'] = Monster(i[0], i[1])\n",
        "        battle(플레이어, globals()[f'{i[0]}'])"
      ],
      "metadata": {
        "id": "e_g6kD4CgOPj"
      },
      "execution_count": 2,
      "outputs": []
    },
    {
      "cell_type": "code",
      "source": [
        "main()"
      ],
      "metadata": {
        "colab": {
          "base_uri": "https://localhost:8080/"
        },
        "id": "h14Zwj6GhBSf",
        "outputId": "a804e944-32ec-47b3-c71f-8868d32beeb2"
      },
      "execution_count": 3,
      "outputs": [
        {
          "output_type": "stream",
          "name": "stdout",
          "text": [
            "슬라임와(과)의 전투를 시작합니다.\n",
            "김민규이(가) 슬라임에게 22만큼 공격했다...!\n",
            "슬라임의 체력: -9\n",
            "전투 승리!\n",
            "슬라임을(를) 이겼다!\n",
            "고블린와(과)의 전투를 시작합니다.\n",
            "김민규이(가) 고블린에게 21만큼 공격했다...!\n",
            "고블린의 체력: 9\n",
            "고블린이(가) 김민규에게 5만큼 공격했다...!\n",
            "김민규의 체력: 95\n",
            "김민규이(가) 고블린에게 21만큼 공격했다...!\n",
            "고블린의 체력: -12\n",
            "전투 승리!\n",
            "고블린을(를) 이겼다!\n",
            "오크와(과)의 전투를 시작합니다.\n",
            "김민규이(가) 오크에게 26만큼 공격했다...!\n",
            "오크의 체력: 58\n",
            "오크이(가) 김민규에게 8만큼 공격했다...!\n",
            "김민규의 체력: 87\n",
            "김민규이(가) 오크에게 26만큼 공격했다...!\n",
            "오크의 체력: 32\n",
            "오크이(가) 김민규에게 8만큼 공격했다...!\n",
            "김민규의 체력: 79\n",
            "김민규이(가) 오크에게 26만큼 공격했다...!\n",
            "오크의 체력: 6\n",
            "오크이(가) 김민규에게 8만큼 공격했다...!\n",
            "김민규의 체력: 71\n",
            "김민규이(가) 오크에게 26만큼 공격했다...!\n",
            "오크의 체력: -20\n",
            "전투 승리!\n",
            "오크을(를) 이겼다!\n"
          ]
        }
      ]
    },
    {
      "cell_type": "code",
      "source": [],
      "metadata": {
        "id": "hMCUXEsIgdIv"
      },
      "execution_count": null,
      "outputs": []
    }
  ]
}