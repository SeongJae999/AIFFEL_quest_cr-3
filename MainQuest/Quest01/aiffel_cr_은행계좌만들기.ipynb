{
  "nbformat": 4,
  "nbformat_minor": 0,
  "metadata": {
    "colab": {
      "provenance": [],
      "authorship_tag": "ABX9TyP1Zaf0R3ohUQRUcKjDtvyC",
      "include_colab_link": true
    },
    "kernelspec": {
      "name": "python3",
      "display_name": "Python 3"
    },
    "language_info": {
      "name": "python"
    }
  },
  "cells": [
    {
      "cell_type": "markdown",
      "metadata": {
        "id": "view-in-github",
        "colab_type": "text"
      },
      "source": [
        "<a href=\"https://colab.research.google.com/github/incheonQ/AIFFEL_quest_cr/blob/main/MainQuest/Quest01/aiffel_cr_%EC%9D%80%ED%96%89%EA%B3%84%EC%A2%8C%EB%A7%8C%EB%93%A4%EA%B8%B0.ipynb\" target=\"_parent\"><img src=\"https://colab.research.google.com/assets/colab-badge.svg\" alt=\"Open In Colab\"/></a>"
      ]
    },
    {
      "cell_type": "code",
      "source": [
        "# 은행 계좌 만들기\n",
        "\n",
        "import random\n",
        "\n",
        "def make_random_integers_to_str(n):\n",
        "  return ''.join([str(random.randint(1, 9)) for _ in range(n)])\n",
        "\n",
        "class Account:\n",
        "    생성된_계좌_개수 = 0\n",
        "\n",
        "    def __init__(self, 예금주, 초기잔액):\n",
        "        self.은행이름 = 'SC은행'\n",
        "        self.예금주 = 예금주\n",
        "        self.잔액 = 초기잔액\n",
        "        self.계좌번호 = make_random_integers_to_str(3) + '-' + make_random_integers_to_str(2) + '-' + make_random_integers_to_str(6)\n",
        "\n",
        "        self.입금횟수 = 0\n",
        "        self.입금이자율 = 0.01\n",
        "\n",
        "        self.history = []\n",
        "\n",
        "\n",
        "        Account.생성된_계좌_개수 += 1\n",
        "\n",
        "    def get_account_num():\n",
        "        print(f\"생성된 계좌의 총 개수: {Account.생성된_계좌_개수}\")\n",
        "\n",
        "    def deposit(self, 입금액):\n",
        "        if 입금액 > 0:\n",
        "            self.잔액 += 입금액\n",
        "            self.history.append([len(self.history)+1,'입금', int(입금액), self.잔액])\n",
        "            self.입금횟수 += 1\n",
        "            if self.입금횟수 % 5 == 0:\n",
        "                이자 = int(self.잔액 * self.입금이자율)\n",
        "                self.잔액 += 이자\n",
        "                print(f\"{이자}의 이자가 입금되었습니다.\")\n",
        "                self.history.append([len(self.history)+1,'이자지급', 이자, self.잔액])\n",
        "\n",
        "        else:\n",
        "          print(\"입금은 최소 1원 이상만 가능합니다.\")\n",
        "\n",
        "\n",
        "    def withdraw(self, 출금액):\n",
        "        if 출금액 <= self.잔액:\n",
        "            self.잔액 -= 출금액\n",
        "            self.history.append([len(self.history)+1, '출금', int(출금액), self.잔액])\n",
        "        else:\n",
        "          print(\"계좌 잔고 이상으로 출금할 수 없습니다.\")\n",
        "\n",
        "    def display_info(self):\n",
        "        잔액출력 = format(self.잔액, ',')\n",
        "        return f'(은행이름: {self.은행이름}, 예금주: {self.예금주}, 계좌번호: {self.계좌번호}, 잔고: {잔액출력})'\n",
        "\n",
        "\n",
        "    def deposit_history(self):\n",
        "        for hist in self.history:\n",
        "          if hist[1] in ['입금', '이자지급']:\n",
        "            print(f\"{hist[0]}회: {hist[1]:<7} 금액: {hist[2]:<7} 잔액: {hist[3]:<7}\")\n",
        "\n",
        "    def withdraw_history(self):\n",
        "        for hist in self.history:\n",
        "          if hist[1] in ['출금']:\n",
        "            print(f\"{hist[0]}회: {hist[1]:<7} 금액: {hist[2]:<7} 잔액: {hist[3]:<7}\")\n",
        "\n",
        "    def print_history(self):\n",
        "      for hist in self.history:\n",
        "        print(hist)\n"
      ],
      "metadata": {
        "id": "W5a7Q8gfdMjE"
      },
      "execution_count": 1,
      "outputs": []
    },
    {
      "cell_type": "code",
      "source": [
        "first_account = Account('차정은', 1000)\n",
        "second_account = Account('박광석', 30000000)\n",
        "third_account = Account('조웅제', 50000000)\n",
        "\n",
        "Accounts = [first_account, second_account, third_account]"
      ],
      "metadata": {
        "id": "S0nQxdKnVocL"
      },
      "execution_count": 2,
      "outputs": []
    },
    {
      "cell_type": "code",
      "source": [
        "Account.get_account_num()"
      ],
      "metadata": {
        "colab": {
          "base_uri": "https://localhost:8080/"
        },
        "id": "lJPmBkVGabR9",
        "outputId": "093680c5-baa8-4936-964d-ba409e26b3b0"
      },
      "execution_count": 3,
      "outputs": [
        {
          "output_type": "stream",
          "name": "stdout",
          "text": [
            "생성된 계좌의 총 개수: 3\n"
          ]
        }
      ]
    },
    {
      "cell_type": "code",
      "source": [
        "for account in Accounts:\n",
        "    if account.잔액 >= 1000000:\n",
        "        print(account.display_info())"
      ],
      "metadata": {
        "colab": {
          "base_uri": "https://localhost:8080/"
        },
        "id": "O-3AtLFXV34i",
        "outputId": "2e947548-1b28-4062-cbac-7aeb44ffef5c"
      },
      "execution_count": 4,
      "outputs": [
        {
          "output_type": "stream",
          "name": "stdout",
          "text": [
            "(은행이름: SC은행, 예금주: 박광석, 계좌번호: 923-88-216194, 잔고: 30,000,000)\n",
            "(은행이름: SC은행, 예금주: 조웅제, 계좌번호: 293-26-791669, 잔고: 50,000,000)\n"
          ]
        }
      ]
    },
    {
      "cell_type": "code",
      "source": [
        "my_account = Account('김민규', 1000)\n",
        "\n",
        "for i in range(10):\n",
        "  my_account.deposit(1000)\n",
        "\n",
        "my_account.deposit(-1000)\n",
        "my_account.withdraw(3000000)\n",
        "my_account.withdraw(3000)"
      ],
      "metadata": {
        "colab": {
          "base_uri": "https://localhost:8080/"
        },
        "id": "gjX01C3CWEmF",
        "outputId": "4d886cd5-2ea0-4d10-dbd0-2e947a417bc8"
      },
      "execution_count": 5,
      "outputs": [
        {
          "output_type": "stream",
          "name": "stdout",
          "text": [
            "60의 이자가 입금되었습니다.\n",
            "110의 이자가 입금되었습니다.\n",
            "입금은 최소 1원 이상만 가능합니다.\n",
            "계좌 잔고 이상으로 출금할 수 없습니다.\n"
          ]
        }
      ]
    },
    {
      "cell_type": "code",
      "source": [
        "my_account.deposit_history()\n",
        "print('-'*50)\n",
        "my_account.withdraw_history()"
      ],
      "metadata": {
        "colab": {
          "base_uri": "https://localhost:8080/"
        },
        "id": "h6JOTNVnXko5",
        "outputId": "427c023e-1b0f-4f77-d131-d99c99a1f441"
      },
      "execution_count": 6,
      "outputs": [
        {
          "output_type": "stream",
          "name": "stdout",
          "text": [
            "1회: 입금      금액: 1000    잔액: 2000   \n",
            "2회: 입금      금액: 1000    잔액: 3000   \n",
            "3회: 입금      금액: 1000    잔액: 4000   \n",
            "4회: 입금      금액: 1000    잔액: 5000   \n",
            "5회: 입금      금액: 1000    잔액: 6000   \n",
            "6회: 이자지급    금액: 60      잔액: 6060   \n",
            "7회: 입금      금액: 1000    잔액: 7060   \n",
            "8회: 입금      금액: 1000    잔액: 8060   \n",
            "9회: 입금      금액: 1000    잔액: 9060   \n",
            "10회: 입금      금액: 1000    잔액: 10060  \n",
            "11회: 입금      금액: 1000    잔액: 11060  \n",
            "12회: 이자지급    금액: 110     잔액: 11170  \n",
            "--------------------------------------------------\n",
            "13회: 출금      금액: 3000    잔액: 8170   \n"
          ]
        }
      ]
    },
    {
      "cell_type": "code",
      "source": [],
      "metadata": {
        "id": "IhEDNpxkce4z"
      },
      "execution_count": 93,
      "outputs": []
    }
  ]
}